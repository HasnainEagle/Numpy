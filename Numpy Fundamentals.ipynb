{
 "cells": [
  {
   "cell_type": "code",
   "execution_count": 1,
   "id": "5d788e6a-8cc5-461e-9672-28a986f167c5",
   "metadata": {},
   "outputs": [],
   "source": [
    "import numpy as np"
   ]
  },
  {
   "cell_type": "code",
   "execution_count": 2,
   "id": "1f6fcc6f-0968-428e-8ee6-7617eb6e8d46",
   "metadata": {},
   "outputs": [
    {
     "data": {
      "text/plain": [
       "numpy.ndarray"
      ]
     },
     "execution_count": 2,
     "metadata": {},
     "output_type": "execute_result"
    }
   ],
   "source": [
    "# Creating Numpy Array(np.array)\n",
    "a = np.array([1,2,3,4,5])  #vector\n",
    "type(a)"
   ]
  },
  {
   "cell_type": "code",
   "execution_count": 3,
   "id": "937f31fe-bef1-4bd3-b1fa-0002690778d1",
   "metadata": {},
   "outputs": [
    {
     "data": {
      "text/plain": [
       "3"
      ]
     },
     "execution_count": 3,
     "metadata": {},
     "output_type": "execute_result"
    }
   ],
   "source": [
    "# 2D and 3D\n",
    "b = np.array([[1,2,3],[4,5,6]])  #matrix\n",
    "b\n",
    "x= np.array([[[1,2,3],[4,5,6]]]) #tensor\n",
    "x.ndim"
   ]
  },
  {
   "cell_type": "code",
   "execution_count": 4,
   "id": "70aafb4b-c1cd-4ca0-baf3-531455893987",
   "metadata": {},
   "outputs": [
    {
     "data": {
      "text/plain": [
       "array([1., 2., 3., 4.])"
      ]
     },
     "execution_count": 4,
     "metadata": {},
     "output_type": "execute_result"
    }
   ],
   "source": [
    "# create array with custom datatype\n",
    "# dtype\n",
    "p = np.array([1,2,3,4],dtype=\"float\")\n",
    "p"
   ]
  },
  {
   "cell_type": "code",
   "execution_count": 5,
   "id": "872fe3ef-14c5-43cb-9704-158ef156639c",
   "metadata": {},
   "outputs": [
    {
     "data": {
      "text/plain": [
       "array([1, 2, 3, 4])"
      ]
     },
     "execution_count": 5,
     "metadata": {},
     "output_type": "execute_result"
    }
   ],
   "source": [
    "# how to change array type \n",
    "p=p.astype('int')\n",
    "p"
   ]
  },
  {
   "cell_type": "code",
   "execution_count": 6,
   "id": "b5b89301-b706-4c44-ac0f-1f5e1909a58b",
   "metadata": {},
   "outputs": [
    {
     "data": {
      "text/plain": [
       "array([1, 2, 3, 4, 5, 6, 7, 8])"
      ]
     },
     "execution_count": 6,
     "metadata": {},
     "output_type": "execute_result"
    }
   ],
   "source": [
    "# np.arange\n",
    "arr = np.arange(1,9) #last number is exclusive \n",
    "arr"
   ]
  },
  {
   "cell_type": "code",
   "execution_count": 7,
   "id": "5fbce256-8bd5-472b-b477-79db937d98e7",
   "metadata": {},
   "outputs": [
    {
     "data": {
      "text/plain": [
       "array([10, 11, 12, 13, 14, 15, 16, 17, 18, 19])"
      ]
     },
     "execution_count": 7,
     "metadata": {},
     "output_type": "execute_result"
    }
   ],
   "source": [
    "arr_2 = np.arange(10,20)\n",
    "arr_2"
   ]
  },
  {
   "cell_type": "code",
   "execution_count": 8,
   "id": "bb552399-557d-42f7-ad8c-14b05acca92c",
   "metadata": {},
   "outputs": [
    {
     "data": {
      "text/plain": [
       "array([ 1,  3,  5,  7,  9, 11, 13, 15])"
      ]
     },
     "execution_count": 8,
     "metadata": {},
     "output_type": "execute_result"
    }
   ],
   "source": [
    "arr_slice = np.arange(1,16,2)\n",
    "arr_slice"
   ]
  },
  {
   "cell_type": "code",
   "execution_count": 9,
   "id": "42333fa5-0970-4319-bb9b-81b0cfc7a523",
   "metadata": {},
   "outputs": [
    {
     "data": {
      "text/plain": [
       "array([[[10, 11, 12, 13, 14],\n",
       "        [15, 16, 17, 18, 19]],\n",
       "\n",
       "       [[20, 21, 22, 23, 24],\n",
       "        [25, 26, 27, 28, 29]],\n",
       "\n",
       "       [[30, 31, 32, 33, 34],\n",
       "        [35, 36, 37, 38, 39]]])"
      ]
     },
     "execution_count": 9,
     "metadata": {},
     "output_type": "execute_result"
    }
   ],
   "source": [
    "# arr_reshape = np.arange(10,30).reshape((4,5))\n",
    "# arr_reshape.ndim\n",
    "arr_reshape = np.arange(10,40).reshape((3,2,5))\n",
    "# arr_reshape.ndim\n",
    "arr_reshape"
   ]
  },
  {
   "cell_type": "code",
   "execution_count": 10,
   "id": "f8bd7231-07fc-4a91-a273-090576d22df4",
   "metadata": {},
   "outputs": [
    {
     "data": {
      "text/plain": [
       "array([[[10, 11, 12, 13, 14],\n",
       "        [15, 16, 17, 18, 19],\n",
       "        [20, 21, 22, 23, 24]],\n",
       "\n",
       "       [[25, 26, 27, 28, 29],\n",
       "        [30, 31, 32, 33, 34],\n",
       "        [35, 36, 37, 38, 39]],\n",
       "\n",
       "       [[40, 41, 42, 43, 44],\n",
       "        [45, 46, 47, 48, 49],\n",
       "        [50, 51, 52, 53, 54]],\n",
       "\n",
       "       [[55, 56, 57, 58, 59],\n",
       "        [60, 61, 62, 63, 64],\n",
       "        [65, 66, 67, 68, 69]]])"
      ]
     },
     "execution_count": 10,
     "metadata": {},
     "output_type": "execute_result"
    }
   ],
   "source": [
    "arr_prac = np.arange(10,70).reshape(4,3,5)\n",
    "arr_prac"
   ]
  },
  {
   "cell_type": "code",
   "execution_count": 11,
   "id": "07e7f6f8-f141-409a-8342-7a695e5382b1",
   "metadata": {},
   "outputs": [
    {
     "data": {
      "text/plain": [
       "array([[1., 1., 1., 1., 1.],\n",
       "       [1., 1., 1., 1., 1.],\n",
       "       [1., 1., 1., 1., 1.],\n",
       "       [1., 1., 1., 1., 1.],\n",
       "       [1., 1., 1., 1., 1.]])"
      ]
     },
     "execution_count": 11,
     "metadata": {},
     "output_type": "execute_result"
    }
   ],
   "source": [
    "# creating array having all ones \n",
    "arr_one = np.ones((5,5))\n",
    "arr_one  # it returns array in a float datatype."
   ]
  },
  {
   "cell_type": "code",
   "execution_count": 12,
   "id": "a8dfbcba-ca01-4a65-b7cf-d735c325508d",
   "metadata": {},
   "outputs": [
    {
     "data": {
      "text/plain": [
       "array([[0, 0, 0, 0, 0],\n",
       "       [0, 0, 0, 0, 0],\n",
       "       [0, 0, 0, 0, 0],\n",
       "       [0, 0, 0, 0, 0],\n",
       "       [0, 0, 0, 0, 0]])"
      ]
     },
     "execution_count": 12,
     "metadata": {},
     "output_type": "execute_result"
    }
   ],
   "source": [
    "# creating null array\n",
    "null_arr = np.zeros((5,5),dtype='int')\n",
    "null_arr"
   ]
  },
  {
   "cell_type": "code",
   "execution_count": 13,
   "id": "dc927cbe-d417-4e0a-ae89-80766db43902",
   "metadata": {},
   "outputs": [],
   "source": [
    "# there are three methods to initialize n array\n",
    "# 1- np.ones 2- np.zeros 3- np.random"
   ]
  },
  {
   "cell_type": "code",
   "execution_count": 14,
   "id": "67f68ddf-0430-42e5-b657-23203ada0177",
   "metadata": {},
   "outputs": [
    {
     "data": {
      "text/plain": [
       "array([[0.29582848, 0.77889885, 0.0881889 , 0.26857535],\n",
       "       [0.6530038 , 0.77512245, 0.61050359, 0.81256771],\n",
       "       [0.30063447, 0.88525479, 0.14497164, 0.39240249]])"
      ]
     },
     "execution_count": 14,
     "metadata": {},
     "output_type": "execute_result"
    }
   ],
   "source": [
    "# np.random\n",
    "# it create an array with a range of 0 to 1.\n",
    "arr_random = np.random.random((3,4))\n",
    "arr_random"
   ]
  },
  {
   "cell_type": "raw",
   "id": "266df16b-4131-4869-b4f4-4e663e87bca0",
   "metadata": {},
   "source": []
  },
  {
   "cell_type": "code",
   "execution_count": 15,
   "id": "7978b1b6-e4a1-4c92-b8dc-26bdff6091bd",
   "metadata": {},
   "outputs": [
    {
     "data": {
      "text/plain": [
       "array([ 1.  ,  3.25,  5.5 ,  7.75, 10.  ])"
      ]
     },
     "execution_count": 15,
     "metadata": {},
     "output_type": "execute_result"
    }
   ],
   "source": [
    "# np.linspace (linear space)\n",
    "# it takes three arguments(range,how much distance)\n",
    "arr_linear = np.linspace(1,10,5)\n",
    "arr_linear"
   ]
  },
  {
   "cell_type": "code",
   "execution_count": 16,
   "id": "4a2d64f1-8405-4b00-877b-a0170f6b4ffa",
   "metadata": {},
   "outputs": [
    {
     "data": {
      "text/plain": [
       "array([10.        , 12.22222222, 14.44444444, 16.66666667, 18.88888889,\n",
       "       21.11111111, 23.33333333, 25.55555556, 27.77777778, 30.        ])"
      ]
     },
     "execution_count": 16,
     "metadata": {},
     "output_type": "execute_result"
    }
   ],
   "source": [
    "arr_linear_2 = np.linspace(10,30,10)\n",
    "arr_linear_2 "
   ]
  },
  {
   "cell_type": "code",
   "execution_count": 17,
   "id": "f9b1e17c-0c68-4103-bebf-40bbb3a0954d",
   "metadata": {},
   "outputs": [
    {
     "data": {
      "text/plain": [
       "array([[1, 0],\n",
       "       [0, 1]])"
      ]
     },
     "execution_count": 17,
     "metadata": {},
     "output_type": "execute_result"
    }
   ],
   "source": [
    "# np.identity\n",
    "arr_identity = np.identity(2,dtype='int')\n",
    "arr_identity"
   ]
  },
  {
   "cell_type": "code",
   "execution_count": 18,
   "id": "c36df754-4c5f-4b3c-a780-6a07ad598c57",
   "metadata": {},
   "outputs": [],
   "source": [
    "# Numpy attributes \n",
    "# ndim,shape,size,itemsize,dtype"
   ]
  },
  {
   "cell_type": "code",
   "execution_count": 19,
   "id": "e6b7461a-4c05-4d2b-b39e-9f7c7b595e57",
   "metadata": {},
   "outputs": [
    {
     "data": {
      "text/plain": [
       "array([[ 1.,  2.,  3.,  4.,  5.],\n",
       "       [ 6.,  7.,  8.,  9., 10.]])"
      ]
     },
     "execution_count": 19,
     "metadata": {},
     "output_type": "execute_result"
    }
   ],
   "source": [
    "arr_attributes = np.array([1,2,3,4,5,6,7,8,9,10]).reshape(2,5)\n",
    "arr_attributes =  arr_attributes.astype('float')\n",
    "arr_attributes"
   ]
  },
  {
   "cell_type": "code",
   "execution_count": 20,
   "id": "ab4bdd73-7b68-4d62-a261-ac5da1b0c79c",
   "metadata": {},
   "outputs": [
    {
     "data": {
      "text/plain": [
       "2"
      ]
     },
     "execution_count": 20,
     "metadata": {},
     "output_type": "execute_result"
    }
   ],
   "source": [
    "# ndim\n",
    "arr_attributes.ndim"
   ]
  },
  {
   "cell_type": "code",
   "execution_count": 21,
   "id": "256891ff-1329-41a2-8bc6-e5f9256d2eb0",
   "metadata": {},
   "outputs": [
    {
     "data": {
      "text/plain": [
       "(2, 5)"
      ]
     },
     "execution_count": 21,
     "metadata": {},
     "output_type": "execute_result"
    }
   ],
   "source": [
    "# shape\n",
    "arr_attributes.shape"
   ]
  },
  {
   "cell_type": "code",
   "execution_count": 22,
   "id": "17f6a379-d5dd-428e-9a72-c4f8d03a81ca",
   "metadata": {},
   "outputs": [
    {
     "data": {
      "text/plain": [
       "10"
      ]
     },
     "execution_count": 22,
     "metadata": {},
     "output_type": "execute_result"
    }
   ],
   "source": [
    "# size\n",
    "arr_attributes.size"
   ]
  },
  {
   "cell_type": "code",
   "execution_count": 23,
   "id": "6b23a860-897c-425a-8122-2a8428b8f567",
   "metadata": {},
   "outputs": [
    {
     "data": {
      "text/plain": [
       "8"
      ]
     },
     "execution_count": 23,
     "metadata": {},
     "output_type": "execute_result"
    }
   ],
   "source": [
    "# itemsize\n",
    "# integer32 take 4 bytes and integer64 take 8 bytes(integer64 is by default)\n",
    "arr_attributes.itemsize  #bytes "
   ]
  },
  {
   "cell_type": "code",
   "execution_count": 24,
   "id": "f40229a4-d686-4500-91aa-d0c5becd6a38",
   "metadata": {},
   "outputs": [
    {
     "data": {
      "text/plain": [
       "dtype('float64')"
      ]
     },
     "execution_count": 24,
     "metadata": {},
     "output_type": "execute_result"
    }
   ],
   "source": [
    "# dtype\n",
    "arr_attributes.dtype"
   ]
  },
  {
   "cell_type": "code",
   "execution_count": 25,
   "id": "2b8c5f87-d789-4f43-b207-3d5fbb7b45b0",
   "metadata": {},
   "outputs": [],
   "source": [
    "# astype\n",
    "# arr.astype(np.int32)"
   ]
  },
  {
   "cell_type": "code",
   "execution_count": 26,
   "id": "8306f597-5416-4618-bceb-839ec9b8ee11",
   "metadata": {},
   "outputs": [],
   "source": [
    "# Array Operations "
   ]
  },
  {
   "cell_type": "code",
   "execution_count": 27,
   "id": "d6e06cd0-62e6-4f13-9fa5-9fefc647ce0e",
   "metadata": {},
   "outputs": [],
   "source": [
    "# scalar and vector operations "
   ]
  },
  {
   "cell_type": "code",
   "execution_count": 28,
   "id": "af748ff8-1f20-461c-8ee3-5bfc7f509990",
   "metadata": {},
   "outputs": [
    {
     "data": {
      "text/plain": [
       "array([[ 1.,  2.,  3.,  4.,  5.],\n",
       "       [ 6.,  7.,  8.,  9., 10.]])"
      ]
     },
     "execution_count": 28,
     "metadata": {},
     "output_type": "execute_result"
    }
   ],
   "source": [
    "arr_attributes"
   ]
  },
  {
   "cell_type": "code",
   "execution_count": 29,
   "id": "7e41016f-d0f2-4c7b-8fbf-84d8f5b16025",
   "metadata": {},
   "outputs": [
    {
     "data": {
      "text/plain": [
       "array([[ 3.,  4.,  5.,  6.,  7.],\n",
       "       [ 8.,  9., 10., 11., 12.]])"
      ]
     },
     "execution_count": 29,
     "metadata": {},
     "output_type": "execute_result"
    }
   ],
   "source": [
    "arr_attributes + 2"
   ]
  },
  {
   "cell_type": "code",
   "execution_count": 30,
   "id": "f2038779-6cc8-451b-84f0-3309089bdac2",
   "metadata": {},
   "outputs": [
    {
     "data": {
      "text/plain": [
       "array([[ 1.,  2.,  3.,  4.,  5.],\n",
       "       [ 6.,  7.,  8.,  9., 10.]])"
      ]
     },
     "execution_count": 30,
     "metadata": {},
     "output_type": "execute_result"
    }
   ],
   "source": [
    "arr2_attributes = np.array([1,2,3,4,5,6,7,8,9,10]).reshape(2,5).astype('float')\n",
    "arr2_attributes"
   ]
  },
  {
   "cell_type": "raw",
   "id": "d4441437-6245-40b4-a76a-19cb1b41c76a",
   "metadata": {},
   "source": []
  },
  {
   "cell_type": "code",
   "execution_count": 31,
   "id": "45e31e68-30d7-43fa-9e5b-df0a8127cdbb",
   "metadata": {},
   "outputs": [
    {
     "data": {
      "text/plain": [
       "array([[ 1.,  2.,  3.,  4.,  5.],\n",
       "       [ 6.,  7.,  8.,  9., 10.]])"
      ]
     },
     "execution_count": 31,
     "metadata": {},
     "output_type": "execute_result"
    }
   ],
   "source": [
    "arr_attributes"
   ]
  },
  {
   "cell_type": "code",
   "execution_count": 32,
   "id": "82ea188e-1b82-4102-9591-7a957d26c642",
   "metadata": {},
   "outputs": [
    {
     "data": {
      "text/plain": [
       "array([[ 1.,  2.,  3.,  4.,  5.],\n",
       "       [ 6.,  7.,  8.,  9., 10.]])"
      ]
     },
     "execution_count": 32,
     "metadata": {},
     "output_type": "execute_result"
    }
   ],
   "source": [
    "arr2_attributes"
   ]
  },
  {
   "cell_type": "code",
   "execution_count": 33,
   "id": "07274849-88eb-493d-9990-ab99787ac283",
   "metadata": {},
   "outputs": [
    {
     "data": {
      "text/plain": [
       "array([[ 2.,  4.,  6.,  8., 10.],\n",
       "       [12., 14., 16., 18., 20.]])"
      ]
     },
     "execution_count": 33,
     "metadata": {},
     "output_type": "execute_result"
    }
   ],
   "source": [
    "result = arr_attributes + arr2_attributes\n",
    "result"
   ]
  },
  {
   "cell_type": "code",
   "execution_count": 34,
   "id": "19b9db29-816b-4f74-9dc1-8cf6c3a7e46c",
   "metadata": {},
   "outputs": [],
   "source": [
    "# Array functions "
   ]
  },
  {
   "cell_type": "code",
   "execution_count": 35,
   "id": "81e447dc-3c3b-4d82-9412-31187c1d1eae",
   "metadata": {},
   "outputs": [
    {
     "data": {
      "text/plain": [
       "array([[92., 58., 23.],\n",
       "       [87., 80., 10.],\n",
       "       [81., 85., 33.]])"
      ]
     },
     "execution_count": 35,
     "metadata": {},
     "output_type": "execute_result"
    }
   ],
   "source": [
    "arr = np.random.random((3,3))\n",
    "arr = np.round(arr*100)\n",
    "arr"
   ]
  },
  {
   "cell_type": "code",
   "execution_count": 36,
   "id": "ee03bcce-c6f6-45c5-b769-225d26c22c65",
   "metadata": {},
   "outputs": [],
   "source": [
    "# max/min/sum/product"
   ]
  },
  {
   "cell_type": "code",
   "execution_count": 37,
   "id": "cfe5aade-00da-4305-bd18-8fe7b07473f4",
   "metadata": {},
   "outputs": [
    {
     "data": {
      "text/plain": [
       "92.0"
      ]
     },
     "execution_count": 37,
     "metadata": {},
     "output_type": "execute_result"
    }
   ],
   "source": [
    "np.max(arr)"
   ]
  },
  {
   "cell_type": "code",
   "execution_count": 38,
   "id": "6ef81a82-fa97-45d4-bb09-bc8546f1b7a6",
   "metadata": {},
   "outputs": [
    {
     "data": {
      "text/plain": [
       "10.0"
      ]
     },
     "execution_count": 38,
     "metadata": {},
     "output_type": "execute_result"
    }
   ],
   "source": [
    "np.min(arr)"
   ]
  },
  {
   "cell_type": "code",
   "execution_count": 39,
   "id": "d0a54336-4f6d-431e-88d0-2a5e708258bf",
   "metadata": {},
   "outputs": [
    {
     "data": {
      "text/plain": [
       "549.0"
      ]
     },
     "execution_count": 39,
     "metadata": {},
     "output_type": "execute_result"
    }
   ],
   "source": [
    "np.sum(arr)"
   ]
  },
  {
   "cell_type": "code",
   "execution_count": 40,
   "id": "b4abf875-de58-4371-ba79-4e205c441bd8",
   "metadata": {},
   "outputs": [
    {
     "data": {
      "text/plain": [
       "1940755300704000.0"
      ]
     },
     "execution_count": 40,
     "metadata": {},
     "output_type": "execute_result"
    }
   ],
   "source": [
    "np.prod(arr)"
   ]
  },
  {
   "cell_type": "code",
   "execution_count": 41,
   "id": "af613e74-5768-445d-8b02-3e81063dc807",
   "metadata": {},
   "outputs": [
    {
     "data": {
      "text/plain": [
       "array([92., 87., 85.])"
      ]
     },
     "execution_count": 41,
     "metadata": {},
     "output_type": "execute_result"
    }
   ],
   "source": [
    "# find max element in each column and row.\n",
    "each_row =  np.max(arr,axis=1)\n",
    "each_row"
   ]
  },
  {
   "cell_type": "code",
   "execution_count": 42,
   "id": "efa4edea-1f6d-4767-aa67-6ca488f9e6dc",
   "metadata": {},
   "outputs": [
    {
     "data": {
      "text/plain": [
       "array([92., 85., 33.])"
      ]
     },
     "execution_count": 42,
     "metadata": {},
     "output_type": "execute_result"
    }
   ],
   "source": [
    "each_column = np.max(arr,axis=0)\n",
    "each_column"
   ]
  },
  {
   "cell_type": "code",
   "execution_count": 43,
   "id": "1e173e39-8326-45f3-867f-179a893edc58",
   "metadata": {},
   "outputs": [
    {
     "data": {
      "text/plain": [
       "array([[10, 11, 12, 13],\n",
       "       [14, 15, 16, 17],\n",
       "       [18, 19, 20, 21],\n",
       "       [22, 23, 24, 25],\n",
       "       [26, 27, 28, 29]])"
      ]
     },
     "execution_count": 43,
     "metadata": {},
     "output_type": "execute_result"
    }
   ],
   "source": [
    "# find min element of each row and column \n",
    "arr_min = np.arange(10,30).reshape(5,4)\n",
    "arr_min"
   ]
  },
  {
   "cell_type": "code",
   "execution_count": 44,
   "id": "afae4ce9-e07e-40d8-b002-07255ba7f505",
   "metadata": {},
   "outputs": [
    {
     "data": {
      "text/plain": [
       "array([10, 14, 18, 22, 26])"
      ]
     },
     "execution_count": 44,
     "metadata": {},
     "output_type": "execute_result"
    }
   ],
   "source": [
    "row = np.min(arr_min,axis=1)\n",
    "row"
   ]
  },
  {
   "cell_type": "code",
   "execution_count": 45,
   "id": "8da2c062-a3aa-404e-b5ac-f20f75fad750",
   "metadata": {},
   "outputs": [
    {
     "data": {
      "text/plain": [
       "array([10, 11, 12, 13])"
      ]
     },
     "execution_count": 45,
     "metadata": {},
     "output_type": "execute_result"
    }
   ],
   "source": [
    "col = np.min(arr_min,axis=0)\n",
    "col"
   ]
  },
  {
   "cell_type": "code",
   "execution_count": 46,
   "id": "d11f9bb6-dea0-44ba-9ac9-500e864dd7b0",
   "metadata": {},
   "outputs": [
    {
     "data": {
      "text/plain": [
       "array([1441440, 1946835, 2580480, 3364725])"
      ]
     },
     "execution_count": 46,
     "metadata": {},
     "output_type": "execute_result"
    }
   ],
   "source": [
    "# find product of each col and row \n",
    "col = np.product(arr_min,axis=0)\n",
    "col"
   ]
  },
  {
   "cell_type": "code",
   "execution_count": 47,
   "id": "1d46be18-085c-4844-883e-7a31435fb40c",
   "metadata": {},
   "outputs": [
    {
     "data": {
      "text/plain": [
       "array([ 17160,  57120, 143640, 303600, 570024])"
      ]
     },
     "execution_count": 47,
     "metadata": {},
     "output_type": "execute_result"
    }
   ],
   "source": [
    "row = np.product(arr_min,axis=1)\n",
    "row"
   ]
  },
  {
   "cell_type": "code",
   "execution_count": 48,
   "id": "e2a469d5-ea74-4523-89c3-545e7ae5b440",
   "metadata": {},
   "outputs": [],
   "source": [
    "# mean/median/std/var"
   ]
  },
  {
   "cell_type": "code",
   "execution_count": 49,
   "id": "464b7d4b-6c4e-42ac-8b4a-8db309909d77",
   "metadata": {},
   "outputs": [
    {
     "data": {
      "text/plain": [
       "19.5"
      ]
     },
     "execution_count": 49,
     "metadata": {},
     "output_type": "execute_result"
    }
   ],
   "source": [
    "np.mean(arr_min)"
   ]
  },
  {
   "cell_type": "code",
   "execution_count": 50,
   "id": "4eba6703-d62c-484e-af1a-9cac4c2d5e81",
   "metadata": {},
   "outputs": [
    {
     "data": {
      "text/plain": [
       "19.5"
      ]
     },
     "execution_count": 50,
     "metadata": {},
     "output_type": "execute_result"
    }
   ],
   "source": [
    "np.median(arr_min)"
   ]
  },
  {
   "cell_type": "code",
   "execution_count": 51,
   "id": "8e52c6f6-e15f-4ac6-bda0-52ab950fe8c5",
   "metadata": {},
   "outputs": [
    {
     "data": {
      "text/plain": [
       "array([5.65685425, 5.65685425, 5.65685425, 5.65685425])"
      ]
     },
     "execution_count": 51,
     "metadata": {},
     "output_type": "execute_result"
    }
   ],
   "source": [
    "np.std(arr_min,axis=0)"
   ]
  },
  {
   "cell_type": "code",
   "execution_count": 52,
   "id": "21b30219-1063-47e0-925e-6c4d7997afa7",
   "metadata": {},
   "outputs": [
    {
     "data": {
      "text/plain": [
       "array([1.25, 1.25, 1.25, 1.25, 1.25])"
      ]
     },
     "execution_count": 52,
     "metadata": {},
     "output_type": "execute_result"
    }
   ],
   "source": [
    "np.var(arr_min,axis=1)"
   ]
  },
  {
   "cell_type": "code",
   "execution_count": 53,
   "id": "dc6a5880-f261-4060-95be-8c06a829d5c8",
   "metadata": {},
   "outputs": [],
   "source": [
    "# Trignometric Functions"
   ]
  },
  {
   "cell_type": "code",
   "execution_count": 54,
   "id": "a56db830-a4c8-46f0-ba2c-b9a5e3e450bb",
   "metadata": {},
   "outputs": [
    {
     "data": {
      "text/plain": [
       "array([[-0.83907153,  0.0044257 ,  0.84385396,  0.90744678],\n",
       "       [ 0.13673722, -0.75968791, -0.95765948, -0.27516334],\n",
       "       [ 0.66031671,  0.98870462,  0.40808206, -0.54772926],\n",
       "       [-0.99996083, -0.53283302,  0.42417901,  0.99120281],\n",
       "       [ 0.64691932, -0.29213881, -0.96260587, -0.74805753]])"
      ]
     },
     "execution_count": 54,
     "metadata": {},
     "output_type": "execute_result"
    }
   ],
   "source": [
    "np.cos(arr_min)"
   ]
  },
  {
   "cell_type": "code",
   "execution_count": 55,
   "id": "5e906be0-9105-45ed-b67f-1d7b71d40d09",
   "metadata": {},
   "outputs": [
    {
     "data": {
      "text/plain": [
       "array([[-0.54402111, -0.99999021, -0.53657292,  0.42016704],\n",
       "       [ 0.99060736,  0.65028784, -0.28790332, -0.96139749],\n",
       "       [-0.75098725,  0.14987721,  0.91294525,  0.83665564],\n",
       "       [-0.00885131, -0.8462204 , -0.90557836, -0.13235175],\n",
       "       [ 0.76255845,  0.95637593,  0.27090579, -0.66363388]])"
      ]
     },
     "execution_count": 55,
     "metadata": {},
     "output_type": "execute_result"
    }
   ],
   "source": [
    "np.sin(arr_min)"
   ]
  },
  {
   "cell_type": "code",
   "execution_count": 56,
   "id": "05e188b2-7481-4f63-9341-2cd3733a0f0d",
   "metadata": {},
   "outputs": [],
   "source": [
    "# dot product"
   ]
  },
  {
   "cell_type": "code",
   "execution_count": 57,
   "id": "e2d2a60a-4c85-42a1-ba5d-c1047a129ebf",
   "metadata": {},
   "outputs": [],
   "source": [
    "array_1 = np.arange(1,21).reshape(4,5)\n",
    "array_2 = np.arange(20,40).reshape(5,4)"
   ]
  },
  {
   "cell_type": "code",
   "execution_count": 58,
   "id": "63b3d462-7fce-432a-b779-3d18ce02428b",
   "metadata": {},
   "outputs": [
    {
     "data": {
      "text/plain": [
       "array([[ 1,  2,  3,  4,  5],\n",
       "       [ 6,  7,  8,  9, 10],\n",
       "       [11, 12, 13, 14, 15],\n",
       "       [16, 17, 18, 19, 20]])"
      ]
     },
     "execution_count": 58,
     "metadata": {},
     "output_type": "execute_result"
    }
   ],
   "source": [
    "array_1"
   ]
  },
  {
   "cell_type": "code",
   "execution_count": 59,
   "id": "47cd7cfc-7e90-4ee5-b05f-6bb920d3698a",
   "metadata": {},
   "outputs": [
    {
     "data": {
      "text/plain": [
       "array([[20, 21, 22, 23],\n",
       "       [24, 25, 26, 27],\n",
       "       [28, 29, 30, 31],\n",
       "       [32, 33, 34, 35],\n",
       "       [36, 37, 38, 39]])"
      ]
     },
     "execution_count": 59,
     "metadata": {},
     "output_type": "execute_result"
    }
   ],
   "source": [
    "array_2"
   ]
  },
  {
   "cell_type": "code",
   "execution_count": 60,
   "id": "5dcbaaf4-a628-4d7f-ad95-4a94daf389ae",
   "metadata": {},
   "outputs": [
    {
     "data": {
      "text/plain": [
       "array([[ 460,  475,  490,  505],\n",
       "       [1160, 1200, 1240, 1280],\n",
       "       [1860, 1925, 1990, 2055],\n",
       "       [2560, 2650, 2740, 2830]])"
      ]
     },
     "execution_count": 60,
     "metadata": {},
     "output_type": "execute_result"
    }
   ],
   "source": [
    "np.dot(array_1,array_2)"
   ]
  },
  {
   "cell_type": "code",
   "execution_count": 61,
   "id": "51de3f36-c932-4dbe-8020-2ea8190ff6e8",
   "metadata": {},
   "outputs": [],
   "source": [
    "# log and exponents"
   ]
  },
  {
   "cell_type": "code",
   "execution_count": 62,
   "id": "d5ba0aa8-78f1-4f80-8710-db64e34599b4",
   "metadata": {},
   "outputs": [
    {
     "data": {
      "text/plain": [
       "array([[0.        , 0.69314718, 1.09861229, 1.38629436, 1.60943791],\n",
       "       [1.79175947, 1.94591015, 2.07944154, 2.19722458, 2.30258509],\n",
       "       [2.39789527, 2.48490665, 2.56494936, 2.63905733, 2.7080502 ],\n",
       "       [2.77258872, 2.83321334, 2.89037176, 2.94443898, 2.99573227]])"
      ]
     },
     "execution_count": 62,
     "metadata": {},
     "output_type": "execute_result"
    }
   ],
   "source": [
    "np.log(array_1)"
   ]
  },
  {
   "cell_type": "code",
   "execution_count": 63,
   "id": "fcfb7fde-a690-4369-8a49-47b5ffd5542e",
   "metadata": {},
   "outputs": [
    {
     "data": {
      "text/plain": [
       "array([[4.85165195e+08, 1.31881573e+09, 3.58491285e+09, 9.74480345e+09],\n",
       "       [2.64891221e+10, 7.20048993e+10, 1.95729609e+11, 5.32048241e+11],\n",
       "       [1.44625706e+12, 3.93133430e+12, 1.06864746e+13, 2.90488497e+13],\n",
       "       [7.89629602e+13, 2.14643580e+14, 5.83461743e+14, 1.58601345e+15],\n",
       "       [4.31123155e+15, 1.17191424e+16, 3.18559318e+16, 8.65934004e+16]])"
      ]
     },
     "execution_count": 63,
     "metadata": {},
     "output_type": "execute_result"
    }
   ],
   "source": [
    "np.exp(array_2)"
   ]
  },
  {
   "cell_type": "code",
   "execution_count": 64,
   "id": "9e03cf1c-d2c4-43c1-bdf1-17b612a6b976",
   "metadata": {},
   "outputs": [
    {
     "data": {
      "text/plain": [
       "array([[3400., 3500., 3600., 3700., 3800., 3900.],\n",
       "       [4000., 4100., 4200., 4300., 4400., 4500.],\n",
       "       [4600., 4700., 4800., 4900., 5000., 5100.],\n",
       "       [5200., 5300., 5400., 5500., 5600., 5700.],\n",
       "       [5800., 5900., 6000., 6100., 6200., 6300.]])"
      ]
     },
     "execution_count": 64,
     "metadata": {},
     "output_type": "execute_result"
    }
   ],
   "source": [
    "# round, floor and ceil\n",
    "arr_new = np.arange(34,64).reshape(5,6).astype('float')\n",
    "np.round(arr_new*100)"
   ]
  },
  {
   "cell_type": "code",
   "execution_count": 65,
   "id": "1e558be0-283b-42b7-aed7-1cad2c7bd4f4",
   "metadata": {},
   "outputs": [
    {
     "data": {
      "text/plain": [
       "array([[34., 35., 36., 37., 38., 39.],\n",
       "       [40., 41., 42., 43., 44., 45.],\n",
       "       [46., 47., 48., 49., 50., 51.],\n",
       "       [52., 53., 54., 55., 56., 57.],\n",
       "       [58., 59., 60., 61., 62., 63.]])"
      ]
     },
     "execution_count": 65,
     "metadata": {},
     "output_type": "execute_result"
    }
   ],
   "source": [
    "# floor ---> 9.2 = 9\n",
    "np.floor(arr_new)"
   ]
  },
  {
   "cell_type": "code",
   "execution_count": 66,
   "id": "157ad0d1-88d0-4a2d-968f-0a07fabfbf0f",
   "metadata": {},
   "outputs": [
    {
     "data": {
      "text/plain": [
       "array([[34., 35., 36., 37., 38., 39.],\n",
       "       [40., 41., 42., 43., 44., 45.],\n",
       "       [46., 47., 48., 49., 50., 51.],\n",
       "       [52., 53., 54., 55., 56., 57.],\n",
       "       [58., 59., 60., 61., 62., 63.]])"
      ]
     },
     "execution_count": 66,
     "metadata": {},
     "output_type": "execute_result"
    }
   ],
   "source": [
    "# ceil ---> 9.2 = 10\n",
    "np.ceil(arr_new)"
   ]
  },
  {
   "cell_type": "code",
   "execution_count": 67,
   "id": "44a3b297-9fd9-4166-8dbd-265dcae9745d",
   "metadata": {},
   "outputs": [],
   "source": [
    "# Indexing and slicing "
   ]
  },
  {
   "cell_type": "code",
   "execution_count": 68,
   "id": "dc4c220c-ea32-4950-bf3b-6898eb6a847d",
   "metadata": {},
   "outputs": [],
   "source": [
    "a1 = np.arange(10)\n",
    "a2 = np.arange(12).reshape(3,4)\n",
    "a3 = np.arange(8).reshape(2,2,2)"
   ]
  },
  {
   "cell_type": "code",
   "execution_count": 69,
   "id": "ca0e6d73-034d-4cba-90bb-3a526e9dd13b",
   "metadata": {},
   "outputs": [
    {
     "data": {
      "text/plain": [
       "array([0, 1, 2, 3, 4, 5, 6, 7, 8, 9])"
      ]
     },
     "execution_count": 69,
     "metadata": {},
     "output_type": "execute_result"
    }
   ],
   "source": [
    "a1"
   ]
  },
  {
   "cell_type": "code",
   "execution_count": 70,
   "id": "530d93fd-dcee-4853-9c8e-9702b80d9547",
   "metadata": {},
   "outputs": [
    {
     "data": {
      "text/plain": [
       "array([[ 0,  1,  2,  3],\n",
       "       [ 4,  5,  6,  7],\n",
       "       [ 8,  9, 10, 11]])"
      ]
     },
     "execution_count": 70,
     "metadata": {},
     "output_type": "execute_result"
    }
   ],
   "source": [
    "a2"
   ]
  },
  {
   "cell_type": "code",
   "execution_count": 71,
   "id": "72211a7c-ddaa-4f2e-91f4-109a1779df7e",
   "metadata": {},
   "outputs": [
    {
     "data": {
      "text/plain": [
       "array([[[0, 1],\n",
       "        [2, 3]],\n",
       "\n",
       "       [[4, 5],\n",
       "        [6, 7]]])"
      ]
     },
     "execution_count": 71,
     "metadata": {},
     "output_type": "execute_result"
    }
   ],
   "source": [
    "a3"
   ]
  },
  {
   "cell_type": "code",
   "execution_count": 72,
   "id": "9b490936-ea26-45d3-9f3c-cd2c6e3277d9",
   "metadata": {},
   "outputs": [
    {
     "data": {
      "text/plain": [
       "9"
      ]
     },
     "execution_count": 72,
     "metadata": {},
     "output_type": "execute_result"
    }
   ],
   "source": [
    "a1[9]"
   ]
  },
  {
   "cell_type": "code",
   "execution_count": 73,
   "id": "029e895f-49d5-410d-8c13-44c50d4ffddd",
   "metadata": {},
   "outputs": [
    {
     "data": {
      "text/plain": [
       "7"
      ]
     },
     "execution_count": 73,
     "metadata": {},
     "output_type": "execute_result"
    }
   ],
   "source": [
    "a2[1][3]"
   ]
  },
  {
   "cell_type": "code",
   "execution_count": 74,
   "id": "11c1ef30-48f3-4823-81ca-71ab30379c4f",
   "metadata": {},
   "outputs": [
    {
     "data": {
      "text/plain": [
       "7"
      ]
     },
     "execution_count": 74,
     "metadata": {},
     "output_type": "execute_result"
    }
   ],
   "source": [
    "a3[1][1][1]"
   ]
  },
  {
   "cell_type": "code",
   "execution_count": 75,
   "id": "f0d3e37e-cafc-4f04-9c05-a99a142bd209",
   "metadata": {},
   "outputs": [],
   "source": [
    "# for last element [-1]"
   ]
  },
  {
   "cell_type": "code",
   "execution_count": 76,
   "id": "c74cbd46-bade-4946-a281-3ac323e725b1",
   "metadata": {},
   "outputs": [
    {
     "data": {
      "text/plain": [
       "array([[[0, 1],\n",
       "        [2, 3]],\n",
       "\n",
       "       [[4, 5],\n",
       "        [6, 7]]])"
      ]
     },
     "execution_count": 76,
     "metadata": {},
     "output_type": "execute_result"
    }
   ],
   "source": [
    "a3"
   ]
  },
  {
   "cell_type": "code",
   "execution_count": 77,
   "id": "de62994b-9956-4f7e-a12a-dcfb2bcc0fa2",
   "metadata": {},
   "outputs": [
    {
     "data": {
      "text/plain": [
       "7"
      ]
     },
     "execution_count": 77,
     "metadata": {},
     "output_type": "execute_result"
    }
   ],
   "source": [
    "a3[1,1,1]"
   ]
  },
  {
   "cell_type": "code",
   "execution_count": 78,
   "id": "509b37a9-fa01-411d-9748-2304d65c0765",
   "metadata": {},
   "outputs": [
    {
     "data": {
      "text/plain": [
       "5"
      ]
     },
     "execution_count": 78,
     "metadata": {},
     "output_type": "execute_result"
    }
   ],
   "source": [
    "a3[1,0,1]"
   ]
  },
  {
   "cell_type": "code",
   "execution_count": 79,
   "id": "631794f1-b7a8-42d2-9241-202fcb9b0758",
   "metadata": {},
   "outputs": [
    {
     "data": {
      "text/plain": [
       "array([0, 1, 2, 3, 4, 5, 6, 7, 8, 9])"
      ]
     },
     "execution_count": 79,
     "metadata": {},
     "output_type": "execute_result"
    }
   ],
   "source": [
    "a1"
   ]
  },
  {
   "cell_type": "code",
   "execution_count": 80,
   "id": "c22063c4-002e-49b4-820e-25059982e9d1",
   "metadata": {},
   "outputs": [
    {
     "data": {
      "text/plain": [
       "array([2, 3, 4])"
      ]
     },
     "execution_count": 80,
     "metadata": {},
     "output_type": "execute_result"
    }
   ],
   "source": [
    "a1[2:5]"
   ]
  },
  {
   "cell_type": "code",
   "execution_count": 81,
   "id": "2181b7d8-d842-4009-92cd-01236f901c96",
   "metadata": {},
   "outputs": [
    {
     "data": {
      "text/plain": [
       "array([[ 0,  1,  2,  3],\n",
       "       [ 4,  5,  6,  7],\n",
       "       [ 8,  9, 10, 11]])"
      ]
     },
     "execution_count": 81,
     "metadata": {},
     "output_type": "execute_result"
    }
   ],
   "source": [
    "a2"
   ]
  },
  {
   "cell_type": "code",
   "execution_count": 82,
   "id": "a313806c-2286-4084-b755-2cde1fd2d0b7",
   "metadata": {},
   "outputs": [
    {
     "data": {
      "text/plain": [
       "array([0, 1, 2, 3])"
      ]
     },
     "execution_count": 82,
     "metadata": {},
     "output_type": "execute_result"
    }
   ],
   "source": [
    "a2[0, :]"
   ]
  },
  {
   "cell_type": "code",
   "execution_count": 83,
   "id": "3f3633c1-b7e6-45c7-9c64-81f6f529b67d",
   "metadata": {},
   "outputs": [
    {
     "data": {
      "text/plain": [
       "array([ 2,  6, 10])"
      ]
     },
     "execution_count": 83,
     "metadata": {},
     "output_type": "execute_result"
    }
   ],
   "source": [
    "a2[:,2]"
   ]
  },
  {
   "cell_type": "code",
   "execution_count": 84,
   "id": "8b2d78de-5c68-4d9d-a51b-6f482ae69cf4",
   "metadata": {},
   "outputs": [
    {
     "data": {
      "text/plain": [
       "array([[ 5,  6],\n",
       "       [ 9, 10]])"
      ]
     },
     "execution_count": 84,
     "metadata": {},
     "output_type": "execute_result"
    }
   ],
   "source": [
    "a2[1:3,1:3]"
   ]
  },
  {
   "cell_type": "code",
   "execution_count": 85,
   "id": "7c6f3fac-2d36-4440-b6a0-36db369419e1",
   "metadata": {},
   "outputs": [],
   "source": [
    "# grab 0,3,8,11 from array(a2)"
   ]
  },
  {
   "cell_type": "code",
   "execution_count": 86,
   "id": "905a6323-5e55-408e-b007-e2d9cd65a74d",
   "metadata": {},
   "outputs": [
    {
     "data": {
      "text/plain": [
       "array([[ 0,  1,  2,  3],\n",
       "       [ 4,  5,  6,  7],\n",
       "       [ 8,  9, 10, 11]])"
      ]
     },
     "execution_count": 86,
     "metadata": {},
     "output_type": "execute_result"
    }
   ],
   "source": [
    "a2"
   ]
  },
  {
   "cell_type": "code",
   "execution_count": 87,
   "id": "c707cd80-528f-4fd1-a96f-e093c91d8a56",
   "metadata": {},
   "outputs": [
    {
     "data": {
      "text/plain": [
       "array([[ 0,  3],\n",
       "       [ 8, 11]])"
      ]
     },
     "execution_count": 87,
     "metadata": {},
     "output_type": "execute_result"
    }
   ],
   "source": [
    "a2[::2,::3]"
   ]
  },
  {
   "cell_type": "code",
   "execution_count": 88,
   "id": "5f4fdc6c-7df1-42b7-b502-c8e13d697b4b",
   "metadata": {},
   "outputs": [],
   "source": [
    "# grab 1,3,9,11"
   ]
  },
  {
   "cell_type": "code",
   "execution_count": 89,
   "id": "db3799e2-a0c2-44b7-a4f8-1c2c6ceda213",
   "metadata": {},
   "outputs": [
    {
     "data": {
      "text/plain": [
       "array([[ 1,  3],\n",
       "       [ 9, 11]])"
      ]
     },
     "execution_count": 89,
     "metadata": {},
     "output_type": "execute_result"
    }
   ],
   "source": [
    "a2[::2,1::2]"
   ]
  },
  {
   "cell_type": "code",
   "execution_count": 90,
   "id": "5043b8b0-4fab-4e55-b70c-8f1c06eb04e1",
   "metadata": {},
   "outputs": [
    {
     "data": {
      "text/plain": [
       "array([[4, 7]])"
      ]
     },
     "execution_count": 90,
     "metadata": {},
     "output_type": "execute_result"
    }
   ],
   "source": [
    "# grab 4,7\n",
    "a2[1:2,::3]"
   ]
  },
  {
   "cell_type": "code",
   "execution_count": 91,
   "id": "6c3ee37e-bd17-406f-a454-427818afa3dc",
   "metadata": {},
   "outputs": [],
   "source": [
    "# grab 1,2,3 and 5,6,7"
   ]
  },
  {
   "cell_type": "code",
   "execution_count": 92,
   "id": "3b1c9f8f-149d-49be-8838-a0e50754e78e",
   "metadata": {},
   "outputs": [
    {
     "data": {
      "text/plain": [
       "array([[1, 2, 3],\n",
       "       [5, 6, 7]])"
      ]
     },
     "execution_count": 92,
     "metadata": {},
     "output_type": "execute_result"
    }
   ],
   "source": [
    "a2[0:2,1:]"
   ]
  },
  {
   "cell_type": "code",
   "execution_count": 93,
   "id": "6f71dd5a-5365-4c5f-b41b-69422d9db0a6",
   "metadata": {},
   "outputs": [
    {
     "data": {
      "text/plain": [
       "array([[ 0,  1,  2,  3],\n",
       "       [ 4,  5,  6,  7],\n",
       "       [ 8,  9, 10, 11]])"
      ]
     },
     "execution_count": 93,
     "metadata": {},
     "output_type": "execute_result"
    }
   ],
   "source": [
    "a2"
   ]
  },
  {
   "cell_type": "code",
   "execution_count": 94,
   "id": "306be078-848b-44a2-ab5a-70395bed8f21",
   "metadata": {},
   "outputs": [],
   "source": [
    "# grab 1,7,8"
   ]
  },
  {
   "cell_type": "code",
   "execution_count": 95,
   "id": "8a64861a-68c6-4ae7-b001-1afedd6a87af",
   "metadata": {},
   "outputs": [
    {
     "data": {
      "text/plain": [
       "array([1, 7, 8])"
      ]
     },
     "execution_count": 95,
     "metadata": {},
     "output_type": "execute_result"
    }
   ],
   "source": [
    "a2[[0,1,2],[1,3,0]]"
   ]
  },
  {
   "cell_type": "code",
   "execution_count": 96,
   "id": "550e6113-7ec3-4c20-ac14-af6b552438aa",
   "metadata": {},
   "outputs": [],
   "source": [
    "# grab 0,7,4,8,10"
   ]
  },
  {
   "cell_type": "code",
   "execution_count": 97,
   "id": "b6edc165-be3b-4585-b993-fe2d654bdef4",
   "metadata": {},
   "outputs": [
    {
     "data": {
      "text/plain": [
       "array([ 0,  4,  7,  8, 10])"
      ]
     },
     "execution_count": 97,
     "metadata": {},
     "output_type": "execute_result"
    }
   ],
   "source": [
    "row_indices = np.array([0,1,1,2,2])\n",
    "col_indices = np.array([0,0,3,0,2])\n",
    "a2[row_indices,col_indices]"
   ]
  },
  {
   "cell_type": "code",
   "execution_count": 98,
   "id": "37c10856-bb89-4115-8511-02234c1c7db8",
   "metadata": {},
   "outputs": [
    {
     "data": {
      "text/plain": [
       "array([ 0,  4,  7,  8, 10])"
      ]
     },
     "execution_count": 98,
     "metadata": {},
     "output_type": "execute_result"
    }
   ],
   "source": [
    "a2[[0,1,1,2,2],[0,0,3,0,2]]"
   ]
  },
  {
   "cell_type": "code",
   "execution_count": 99,
   "id": "96f3c473-cfc9-4a9c-be8e-ee872792eddf",
   "metadata": {},
   "outputs": [
    {
     "data": {
      "text/plain": [
       "array([[[ 0,  1,  2],\n",
       "        [ 3,  4,  5],\n",
       "        [ 6,  7,  8]],\n",
       "\n",
       "       [[ 9, 10, 11],\n",
       "        [12, 13, 14],\n",
       "        [15, 16, 17]],\n",
       "\n",
       "       [[18, 19, 20],\n",
       "        [21, 22, 23],\n",
       "        [24, 25, 26]]])"
      ]
     },
     "execution_count": 99,
     "metadata": {},
     "output_type": "execute_result"
    }
   ],
   "source": [
    "# a3\n",
    "a3 = np.arange(27).reshape(3,3,3)\n",
    "a3"
   ]
  },
  {
   "cell_type": "code",
   "execution_count": 100,
   "id": "b9b9cefc-116b-4d81-a1ab-725065b4712a",
   "metadata": {},
   "outputs": [
    {
     "data": {
      "text/plain": [
       "array([[ 9, 10, 11],\n",
       "       [12, 13, 14],\n",
       "       [15, 16, 17]])"
      ]
     },
     "execution_count": 100,
     "metadata": {},
     "output_type": "execute_result"
    }
   ],
   "source": [
    "a3[1]"
   ]
  },
  {
   "cell_type": "code",
   "execution_count": 101,
   "id": "b4848bda-2c3f-4879-9026-add871acae87",
   "metadata": {},
   "outputs": [
    {
     "data": {
      "text/plain": [
       "array([[[ 0,  1,  2],\n",
       "        [ 3,  4,  5],\n",
       "        [ 6,  7,  8]],\n",
       "\n",
       "       [[18, 19, 20],\n",
       "        [21, 22, 23],\n",
       "        [24, 25, 26]]])"
      ]
     },
     "execution_count": 101,
     "metadata": {},
     "output_type": "execute_result"
    }
   ],
   "source": [
    "a3[::2]"
   ]
  },
  {
   "cell_type": "code",
   "execution_count": 102,
   "id": "137a3310-5058-4b3d-b61a-8f7998647f7f",
   "metadata": {},
   "outputs": [],
   "source": [
    "# grab 3,4,5"
   ]
  },
  {
   "cell_type": "code",
   "execution_count": 103,
   "id": "bd885ae1-2d17-4b21-9b14-233a83831253",
   "metadata": {},
   "outputs": [
    {
     "data": {
      "text/plain": [
       "array([3, 4, 5])"
      ]
     },
     "execution_count": 103,
     "metadata": {},
     "output_type": "execute_result"
    }
   ],
   "source": [
    "a3[0][1]"
   ]
  },
  {
   "cell_type": "code",
   "execution_count": 104,
   "id": "f1b0dde3-1ced-43c0-873f-52ea9aab073a",
   "metadata": {},
   "outputs": [
    {
     "data": {
      "text/plain": [
       "array([[3, 4, 5]])"
      ]
     },
     "execution_count": 104,
     "metadata": {},
     "output_type": "execute_result"
    }
   ],
   "source": [
    "a3[0:1,1]"
   ]
  },
  {
   "cell_type": "code",
   "execution_count": 105,
   "id": "a5a1e40d-fa7f-4d7e-8b33-79933281b5ac",
   "metadata": {},
   "outputs": [],
   "source": [
    "# grab 10,13,16"
   ]
  },
  {
   "cell_type": "code",
   "execution_count": 106,
   "id": "4088b534-af7d-4f86-a912-36ac13ec5c13",
   "metadata": {},
   "outputs": [
    {
     "data": {
      "text/plain": [
       "array([[[10],\n",
       "        [13],\n",
       "        [16]]])"
      ]
     },
     "execution_count": 106,
     "metadata": {},
     "output_type": "execute_result"
    }
   ],
   "source": [
    "a3[1:2,:,1:2]"
   ]
  },
  {
   "cell_type": "code",
   "execution_count": 107,
   "id": "1e1ecc75-27c5-4899-88b3-8990e9cb17e0",
   "metadata": {},
   "outputs": [],
   "source": [
    "# grab 22,23 and 25,26"
   ]
  },
  {
   "cell_type": "code",
   "execution_count": 108,
   "id": "b09c650e-a10f-4c06-b57c-3933efd70775",
   "metadata": {},
   "outputs": [
    {
     "data": {
      "text/plain": [
       "array([[22, 23],\n",
       "       [25, 26]])"
      ]
     },
     "execution_count": 108,
     "metadata": {},
     "output_type": "execute_result"
    }
   ],
   "source": [
    "a3[2,1:,1:]"
   ]
  },
  {
   "cell_type": "code",
   "execution_count": 109,
   "id": "6b64161f-b7e9-4e98-a781-35f14bf3bcfc",
   "metadata": {},
   "outputs": [],
   "source": [
    "# grab 0,2 and 18,20"
   ]
  },
  {
   "cell_type": "code",
   "execution_count": 110,
   "id": "fcd7e05a-8469-4be9-8efd-abb3b0d2f6b7",
   "metadata": {},
   "outputs": [
    {
     "data": {
      "text/plain": [
       "array([[ 0,  2],\n",
       "       [18, 20]])"
      ]
     },
     "execution_count": 110,
     "metadata": {},
     "output_type": "execute_result"
    }
   ],
   "source": [
    "a3[::2,0,::2]"
   ]
  },
  {
   "cell_type": "code",
   "execution_count": 111,
   "id": "e3fcf5cd-0caa-4ea2-a81b-14173513aed3",
   "metadata": {},
   "outputs": [],
   "source": [
    "# array Iterations"
   ]
  },
  {
   "cell_type": "code",
   "execution_count": 112,
   "id": "710d513a-fb76-4fb1-9b37-24fd5fc5abba",
   "metadata": {},
   "outputs": [
    {
     "data": {
      "text/plain": [
       "array([0, 1, 2, 3, 4, 5, 6, 7, 8, 9])"
      ]
     },
     "execution_count": 112,
     "metadata": {},
     "output_type": "execute_result"
    }
   ],
   "source": [
    "a1"
   ]
  },
  {
   "cell_type": "code",
   "execution_count": 113,
   "id": "7bcb2c88-85d6-447a-b92b-9e0a935c771e",
   "metadata": {},
   "outputs": [
    {
     "data": {
      "text/plain": [
       "array([[ 0,  1,  2,  3],\n",
       "       [ 4,  5,  6,  7],\n",
       "       [ 8,  9, 10, 11]])"
      ]
     },
     "execution_count": 113,
     "metadata": {},
     "output_type": "execute_result"
    }
   ],
   "source": [
    "a2"
   ]
  },
  {
   "cell_type": "code",
   "execution_count": 114,
   "id": "4569ccd7-b326-4b7c-b57f-bf7f9bba162c",
   "metadata": {},
   "outputs": [
    {
     "data": {
      "text/plain": [
       "array([[[ 0,  1,  2],\n",
       "        [ 3,  4,  5],\n",
       "        [ 6,  7,  8]],\n",
       "\n",
       "       [[ 9, 10, 11],\n",
       "        [12, 13, 14],\n",
       "        [15, 16, 17]],\n",
       "\n",
       "       [[18, 19, 20],\n",
       "        [21, 22, 23],\n",
       "        [24, 25, 26]]])"
      ]
     },
     "execution_count": 114,
     "metadata": {},
     "output_type": "execute_result"
    }
   ],
   "source": [
    "a3"
   ]
  },
  {
   "cell_type": "code",
   "execution_count": 115,
   "id": "266ceb80-c5e8-4429-b94d-3772857296de",
   "metadata": {},
   "outputs": [
    {
     "name": "stdout",
     "output_type": "stream",
     "text": [
      "0\n",
      "1\n",
      "2\n",
      "3\n",
      "4\n",
      "5\n",
      "6\n",
      "7\n",
      "8\n",
      "9\n"
     ]
    }
   ],
   "source": [
    "for element in np.nditer(a1):\n",
    "    print(element)"
   ]
  },
  {
   "cell_type": "raw",
   "id": "ba9f799b-8d5b-4b84-aa38-2ea8d8404350",
   "metadata": {},
   "source": [
    "for element in np.nditer(a2):\n",
    "    print(element)"
   ]
  },
  {
   "cell_type": "code",
   "execution_count": 116,
   "id": "0e19c083-a5fa-412c-b6fd-38fe85340ae6",
   "metadata": {},
   "outputs": [
    {
     "name": "stdout",
     "output_type": "stream",
     "text": [
      "10 11 12 13 14 15 16 17 18 19 20 21 22 23 24 25 26 27 28 29 30 31 32 33 34 35 36 "
     ]
    }
   ],
   "source": [
    "for i in np.nditer(a3):\n",
    "    print(i+10,end=\" \")"
   ]
  },
  {
   "cell_type": "code",
   "execution_count": 117,
   "id": "73310bff-7160-4402-a8d9-092a14c8119d",
   "metadata": {},
   "outputs": [],
   "source": [
    "# Reshaping"
   ]
  },
  {
   "cell_type": "code",
   "execution_count": 118,
   "id": "31a9a7fb-1515-4391-8beb-8758ce64be52",
   "metadata": {},
   "outputs": [],
   "source": [
    "# reshape,transpose,ravel"
   ]
  },
  {
   "cell_type": "code",
   "execution_count": 119,
   "id": "145e2b1a-364c-4950-ad28-d198c74e4e5a",
   "metadata": {},
   "outputs": [
    {
     "data": {
      "text/plain": [
       "array([[ 0,  4,  8],\n",
       "       [ 1,  5,  9],\n",
       "       [ 2,  6, 10],\n",
       "       [ 3,  7, 11]])"
      ]
     },
     "execution_count": 119,
     "metadata": {},
     "output_type": "execute_result"
    }
   ],
   "source": [
    "# transpose\n",
    "np.transpose(a2)"
   ]
  },
  {
   "cell_type": "code",
   "execution_count": 120,
   "id": "24820553-62ec-45df-87ea-0218cd006013",
   "metadata": {},
   "outputs": [
    {
     "data": {
      "text/plain": [
       "array([ 0,  1,  2,  3,  4,  5,  6,  7,  8,  9, 10, 11])"
      ]
     },
     "execution_count": 120,
     "metadata": {},
     "output_type": "execute_result"
    }
   ],
   "source": [
    "# Ravel (convert the higher dimensions array into single dimension)\n",
    "np.ravel(a2)"
   ]
  },
  {
   "cell_type": "code",
   "execution_count": 121,
   "id": "aff09236-4c6e-4cf3-b129-edc8fcd62d99",
   "metadata": {},
   "outputs": [],
   "source": [
    "# Stacking \n",
    "# Horizontal stacking\n",
    "# Vertical stacking\n",
    "# CONDITION : shape must be same. "
   ]
  },
  {
   "cell_type": "code",
   "execution_count": 122,
   "id": "fb3eef01-464a-44ae-944a-8d352a86886b",
   "metadata": {},
   "outputs": [],
   "source": [
    "a4 = np.arange(12).reshape(3,4)\n",
    "a5 = np.arange(12,24).reshape(3,4)"
   ]
  },
  {
   "cell_type": "code",
   "execution_count": 123,
   "id": "3dc17d6b-3e09-4edd-b5ea-f4d4d9cb75f3",
   "metadata": {},
   "outputs": [
    {
     "data": {
      "text/plain": [
       "array([[ 0,  1,  2,  3],\n",
       "       [ 4,  5,  6,  7],\n",
       "       [ 8,  9, 10, 11]])"
      ]
     },
     "execution_count": 123,
     "metadata": {},
     "output_type": "execute_result"
    }
   ],
   "source": [
    "a4"
   ]
  },
  {
   "cell_type": "code",
   "execution_count": 124,
   "id": "b0084c3b-a98f-4eb3-9a1a-dffb4492e4e2",
   "metadata": {},
   "outputs": [
    {
     "data": {
      "text/plain": [
       "array([[12, 13, 14, 15],\n",
       "       [16, 17, 18, 19],\n",
       "       [20, 21, 22, 23]])"
      ]
     },
     "execution_count": 124,
     "metadata": {},
     "output_type": "execute_result"
    }
   ],
   "source": [
    "a5"
   ]
  },
  {
   "cell_type": "code",
   "execution_count": 126,
   "id": "45f0c559-9405-4045-b168-2cae986af328",
   "metadata": {},
   "outputs": [
    {
     "data": {
      "text/plain": [
       "array([[ 0,  1,  2,  3, 12, 13, 14, 15],\n",
       "       [ 4,  5,  6,  7, 16, 17, 18, 19],\n",
       "       [ 8,  9, 10, 11, 20, 21, 22, 23]])"
      ]
     },
     "execution_count": 126,
     "metadata": {},
     "output_type": "execute_result"
    }
   ],
   "source": [
    "# hstack\n",
    "np.hstack((a4,a5))"
   ]
  },
  {
   "cell_type": "code",
   "execution_count": 127,
   "id": "9a73f5ec-9f54-4edf-a631-360cc0bf6ac9",
   "metadata": {},
   "outputs": [
    {
     "data": {
      "text/plain": [
       "array([[ 0,  1,  2,  3],\n",
       "       [ 4,  5,  6,  7],\n",
       "       [ 8,  9, 10, 11],\n",
       "       [12, 13, 14, 15],\n",
       "       [16, 17, 18, 19],\n",
       "       [20, 21, 22, 23]])"
      ]
     },
     "execution_count": 127,
     "metadata": {},
     "output_type": "execute_result"
    }
   ],
   "source": [
    "# vstack\n",
    "np.vstack((a4,a5))"
   ]
  },
  {
   "cell_type": "code",
   "execution_count": 129,
   "id": "25a4da4d-a4dc-4510-9144-5cc639b702e2",
   "metadata": {},
   "outputs": [],
   "source": [
    "# splitting\n",
    "# horizontal\n",
    "# vertical"
   ]
  },
  {
   "cell_type": "code",
   "execution_count": 130,
   "id": "31e3a32f-601c-45d1-a2b0-bcfe186ca370",
   "metadata": {},
   "outputs": [
    {
     "data": {
      "text/plain": [
       "array([[ 0,  1,  2,  3],\n",
       "       [ 4,  5,  6,  7],\n",
       "       [ 8,  9, 10, 11]])"
      ]
     },
     "execution_count": 130,
     "metadata": {},
     "output_type": "execute_result"
    }
   ],
   "source": [
    "a4"
   ]
  },
  {
   "cell_type": "code",
   "execution_count": 131,
   "id": "699c70f9-1571-43e4-9a60-baffd531ca30",
   "metadata": {},
   "outputs": [
    {
     "data": {
      "text/plain": [
       "[array([[0],\n",
       "        [4],\n",
       "        [8]]),\n",
       " array([[1],\n",
       "        [5],\n",
       "        [9]]),\n",
       " array([[ 2],\n",
       "        [ 6],\n",
       "        [10]]),\n",
       " array([[ 3],\n",
       "        [ 7],\n",
       "        [11]])]"
      ]
     },
     "execution_count": 131,
     "metadata": {},
     "output_type": "execute_result"
    }
   ],
   "source": [
    "# hsplit\n",
    "np.hsplit(a4,4)"
   ]
  },
  {
   "cell_type": "code",
   "execution_count": 133,
   "id": "70dbaeea-ebc0-42db-a77f-53dafe7cbf9a",
   "metadata": {},
   "outputs": [
    {
     "data": {
      "text/plain": [
       "[array([[0, 1, 2, 3]]), array([[4, 5, 6, 7]]), array([[ 8,  9, 10, 11]])]"
      ]
     },
     "execution_count": 133,
     "metadata": {},
     "output_type": "execute_result"
    }
   ],
   "source": [
    "# vsplit\n",
    "np.vsplit(a4,3)"
   ]
  },
  {
   "cell_type": "code",
   "execution_count": null,
   "id": "7a6ba367-6f35-452c-b884-75ee3162a61f",
   "metadata": {},
   "outputs": [],
   "source": []
  }
 ],
 "metadata": {
  "kernelspec": {
   "display_name": "Python 3 (ipykernel)",
   "language": "python",
   "name": "python3"
  },
  "language_info": {
   "codemirror_mode": {
    "name": "ipython",
    "version": 3
   },
   "file_extension": ".py",
   "mimetype": "text/x-python",
   "name": "python",
   "nbconvert_exporter": "python",
   "pygments_lexer": "ipython3",
   "version": "3.12.0"
  }
 },
 "nbformat": 4,
 "nbformat_minor": 5
}
