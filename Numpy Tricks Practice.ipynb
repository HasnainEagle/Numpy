{
 "cells": [
  {
   "cell_type": "code",
   "execution_count": 1,
   "id": "b016d8db-ead0-4e7a-bc6f-40761349758c",
   "metadata": {},
   "outputs": [],
   "source": [
    "import numpy as np"
   ]
  },
  {
   "cell_type": "code",
   "execution_count": 2,
   "id": "ceb62a7b-b018-4e9d-aa81-5801693221c9",
   "metadata": {},
   "outputs": [],
   "source": [
    "# sort method "
   ]
  },
  {
   "cell_type": "code",
   "execution_count": 3,
   "id": "6ba80f28-bd14-46c4-b096-22e0bfce3a10",
   "metadata": {},
   "outputs": [
    {
     "data": {
      "text/plain": [
       "array([24, 74,  2, 71, 49, 84, 38, 44,  6, 17, 46,  6, 73, 30, 72])"
      ]
     },
     "execution_count": 3,
     "metadata": {},
     "output_type": "execute_result"
    }
   ],
   "source": [
    "a = np.random.randint(1,100,15)\n",
    "a"
   ]
  },
  {
   "cell_type": "code",
   "execution_count": 4,
   "id": "ff3ab66d-c4f4-4ae0-ac5c-45a442ca2b23",
   "metadata": {},
   "outputs": [
    {
     "data": {
      "text/plain": [
       "array([[ 7, 94, 74, 91],\n",
       "       [28, 62, 80, 69],\n",
       "       [70, 62, 39, 83],\n",
       "       [80, 31, 24, 81],\n",
       "       [58, 37, 58, 72],\n",
       "       [17, 61,  7, 27]])"
      ]
     },
     "execution_count": 4,
     "metadata": {},
     "output_type": "execute_result"
    }
   ],
   "source": [
    "b = np.random.randint(1,100,24).reshape(6,4)\n",
    "b"
   ]
  },
  {
   "cell_type": "code",
   "execution_count": 5,
   "id": "7e8b802d-70f1-415b-85e8-c5a3f42f43df",
   "metadata": {},
   "outputs": [
    {
     "data": {
      "text/plain": [
       "array([ 2,  6,  6, 17, 24, 30, 38, 44, 46, 49, 71, 72, 73, 74, 84])"
      ]
     },
     "execution_count": 5,
     "metadata": {},
     "output_type": "execute_result"
    }
   ],
   "source": [
    "np.sort(a)"
   ]
  },
  {
   "cell_type": "code",
   "execution_count": 6,
   "id": "b48e3f70-b6c3-4fa7-aa43-c28c08c48e92",
   "metadata": {},
   "outputs": [
    {
     "data": {
      "text/plain": [
       "array([[ 7, 74, 91, 94],\n",
       "       [28, 62, 69, 80],\n",
       "       [39, 62, 70, 83],\n",
       "       [24, 31, 80, 81],\n",
       "       [37, 58, 58, 72],\n",
       "       [ 7, 17, 27, 61]])"
      ]
     },
     "execution_count": 6,
     "metadata": {},
     "output_type": "execute_result"
    }
   ],
   "source": [
    "# np.sort(array , axis ,kind)\n",
    "np.sort(b) # by default row wise sort karta ha"
   ]
  },
  {
   "cell_type": "code",
   "execution_count": 7,
   "id": "3ffde13b-d438-448a-9eed-b93129bd1142",
   "metadata": {},
   "outputs": [
    {
     "data": {
      "text/plain": [
       "array([[ 7, 31,  7, 27],\n",
       "       [17, 37, 24, 69],\n",
       "       [28, 61, 39, 72],\n",
       "       [58, 62, 58, 81],\n",
       "       [70, 62, 74, 83],\n",
       "       [80, 94, 80, 91]])"
      ]
     },
     "execution_count": 7,
     "metadata": {},
     "output_type": "execute_result"
    }
   ],
   "source": [
    "np.sort(b,axis=0)  # column wise sorted "
   ]
  },
  {
   "cell_type": "code",
   "execution_count": 8,
   "id": "dddb9103-56c8-4809-b43f-041a85dc4c83",
   "metadata": {},
   "outputs": [
    {
     "data": {
      "text/plain": [
       "array([84, 74, 73, 72, 71, 49, 46, 44, 38, 30, 24, 17,  6,  6,  2])"
      ]
     },
     "execution_count": 8,
     "metadata": {},
     "output_type": "execute_result"
    }
   ],
   "source": [
    "#  for descending \n",
    "np.sort(a)[::-1]"
   ]
  },
  {
   "cell_type": "code",
   "execution_count": 9,
   "id": "37c55249-8cac-4615-a1a5-e132a7f1c6d6",
   "metadata": {},
   "outputs": [],
   "source": [
    "# append method"
   ]
  },
  {
   "cell_type": "code",
   "execution_count": 10,
   "id": "2daaa570-fe69-4232-9bdf-42a4b94057b4",
   "metadata": {},
   "outputs": [
    {
     "data": {
      "text/plain": [
       "array([ 24,  74,   2,  71,  49,  84,  38,  44,   6,  17,  46,   6,  73,\n",
       "        30,  72, 150])"
      ]
     },
     "execution_count": 10,
     "metadata": {},
     "output_type": "execute_result"
    }
   ],
   "source": [
    "np.append(a,150)"
   ]
  },
  {
   "cell_type": "code",
   "execution_count": 11,
   "id": "e75075ba-60f2-41ad-8496-520f7861e98c",
   "metadata": {},
   "outputs": [
    {
     "data": {
      "text/plain": [
       "array([[ 7., 94., 74., 91.,  1.],\n",
       "       [28., 62., 80., 69.,  1.],\n",
       "       [70., 62., 39., 83.,  1.],\n",
       "       [80., 31., 24., 81.,  1.],\n",
       "       [58., 37., 58., 72.,  1.],\n",
       "       [17., 61.,  7., 27.,  1.]])"
      ]
     },
     "execution_count": 11,
     "metadata": {},
     "output_type": "execute_result"
    }
   ],
   "source": [
    "np.append(b , np.ones((b.shape[0],1)),axis=1)"
   ]
  },
  {
   "cell_type": "code",
   "execution_count": 12,
   "id": "59c106ef-5951-4a52-922d-637abfd08bc6",
   "metadata": {},
   "outputs": [
    {
     "data": {
      "text/plain": [
       "array([[ 7.        , 94.        , 74.        , 91.        ,  0.94790028],\n",
       "       [28.        , 62.        , 80.        , 69.        ,  0.39862529],\n",
       "       [70.        , 62.        , 39.        , 83.        ,  0.52222551],\n",
       "       [80.        , 31.        , 24.        , 81.        ,  0.95074582],\n",
       "       [58.        , 37.        , 58.        , 72.        ,  0.22336404],\n",
       "       [17.        , 61.        ,  7.        , 27.        ,  0.54238881]])"
      ]
     },
     "execution_count": 12,
     "metadata": {},
     "output_type": "execute_result"
    }
   ],
   "source": [
    "np.append(b,np.random.random((b.shape[0],1)),axis=1)"
   ]
  },
  {
   "cell_type": "code",
   "execution_count": 13,
   "id": "4cb59e74-fa33-43af-b6f9-8012fabc2924",
   "metadata": {},
   "outputs": [],
   "source": [
    "# Concatenate method"
   ]
  },
  {
   "cell_type": "code",
   "execution_count": 14,
   "id": "d684303c-6ead-4b39-b845-1993c339cc6d",
   "metadata": {},
   "outputs": [
    {
     "name": "stdout",
     "output_type": "stream",
     "text": [
      "[[0 1 2]\n",
      " [3 4 5]]\n",
      "[[ 6  7  8]\n",
      " [ 9 10 11]]\n"
     ]
    }
   ],
   "source": [
    "c = np.arange(6).reshape(2,3)\n",
    "d = np.arange(6,12).reshape(2,3)\n",
    "print(c)\n",
    "print(d)"
   ]
  },
  {
   "cell_type": "code",
   "execution_count": 15,
   "id": "0ad92922-7ac7-43f8-a595-8f28ffd7c15d",
   "metadata": {},
   "outputs": [
    {
     "data": {
      "text/plain": [
       "array([[ 0,  1,  2,  6,  7,  8],\n",
       "       [ 3,  4,  5,  9, 10, 11]])"
      ]
     },
     "execution_count": 15,
     "metadata": {},
     "output_type": "execute_result"
    }
   ],
   "source": [
    "np.concatenate((c,d),axis=1)"
   ]
  },
  {
   "cell_type": "code",
   "execution_count": 16,
   "id": "66d6d56c-a656-4b97-ab68-f727acd0023d",
   "metadata": {},
   "outputs": [
    {
     "data": {
      "text/plain": [
       "array([[ 0,  1,  2],\n",
       "       [ 3,  4,  5],\n",
       "       [ 6,  7,  8],\n",
       "       [ 9, 10, 11]])"
      ]
     },
     "execution_count": 16,
     "metadata": {},
     "output_type": "execute_result"
    }
   ],
   "source": [
    "np.concatenate((c,d),axis=0)"
   ]
  },
  {
   "cell_type": "code",
   "execution_count": 17,
   "id": "78f048d9-3787-4c2c-867b-72858b301fc2",
   "metadata": {},
   "outputs": [],
   "source": [
    "# Unique method "
   ]
  },
  {
   "cell_type": "code",
   "execution_count": 18,
   "id": "e4971016-dc5c-4e74-a5ae-275d3c93f22c",
   "metadata": {},
   "outputs": [
    {
     "data": {
      "text/plain": [
       "array([1, 2, 3, 4, 5, 6, 7, 8, 9])"
      ]
     },
     "execution_count": 18,
     "metadata": {},
     "output_type": "execute_result"
    }
   ],
   "source": [
    "arr_dup = np.array([1,1,2,2,3,4,3,4,5,6,5,7,6,7,8,9,8])\n",
    "np.unique(arr_dup)"
   ]
  },
  {
   "cell_type": "code",
   "execution_count": 19,
   "id": "f8d45e72-7f79-40c8-96d0-472db94f43a9",
   "metadata": {},
   "outputs": [],
   "source": [
    "# expand_dims method"
   ]
  },
  {
   "cell_type": "code",
   "execution_count": 20,
   "id": "1fe0cf3b-dc58-484f-ae56-7ff36a8d379b",
   "metadata": {},
   "outputs": [
    {
     "data": {
      "text/plain": [
       "(15,)"
      ]
     },
     "execution_count": 20,
     "metadata": {},
     "output_type": "execute_result"
    }
   ],
   "source": [
    "a.shape"
   ]
  },
  {
   "cell_type": "code",
   "execution_count": 21,
   "id": "386dfad8-ffb7-4d89-95bf-92a6b74eef12",
   "metadata": {},
   "outputs": [
    {
     "data": {
      "text/plain": [
       "array([[24, 74,  2, 71, 49, 84, 38, 44,  6, 17, 46,  6, 73, 30, 72]])"
      ]
     },
     "execution_count": 21,
     "metadata": {},
     "output_type": "execute_result"
    }
   ],
   "source": [
    "np.expand_dims(a,axis=0)"
   ]
  },
  {
   "cell_type": "code",
   "execution_count": 22,
   "id": "9e1ade57-2872-49b7-a8c6-583f177dedf4",
   "metadata": {},
   "outputs": [
    {
     "data": {
      "text/plain": [
       "(1, 15)"
      ]
     },
     "execution_count": 22,
     "metadata": {},
     "output_type": "execute_result"
    }
   ],
   "source": [
    "np.expand_dims(a,axis=0).shape"
   ]
  },
  {
   "cell_type": "code",
   "execution_count": 23,
   "id": "4a46b501-fe31-426b-8791-bc3487135b1d",
   "metadata": {},
   "outputs": [
    {
     "data": {
      "text/plain": [
       "array([[24],\n",
       "       [74],\n",
       "       [ 2],\n",
       "       [71],\n",
       "       [49],\n",
       "       [84],\n",
       "       [38],\n",
       "       [44],\n",
       "       [ 6],\n",
       "       [17],\n",
       "       [46],\n",
       "       [ 6],\n",
       "       [73],\n",
       "       [30],\n",
       "       [72]])"
      ]
     },
     "execution_count": 23,
     "metadata": {},
     "output_type": "execute_result"
    }
   ],
   "source": [
    "np.expand_dims(a,axis=1)"
   ]
  },
  {
   "cell_type": "code",
   "execution_count": 24,
   "id": "27ecc4ca-5228-4513-abc2-00fe20013d78",
   "metadata": {},
   "outputs": [
    {
     "data": {
      "text/plain": [
       "(15, 1)"
      ]
     },
     "execution_count": 24,
     "metadata": {},
     "output_type": "execute_result"
    }
   ],
   "source": [
    "np.expand_dims(a,axis=1).shape"
   ]
  },
  {
   "cell_type": "code",
   "execution_count": 25,
   "id": "82022bb5-de3a-4741-adbc-9ed62ff054ea",
   "metadata": {},
   "outputs": [],
   "source": [
    "# where method "
   ]
  },
  {
   "cell_type": "code",
   "execution_count": 26,
   "id": "b63d482c-6a30-4937-9f9b-3bf1cd9d0510",
   "metadata": {},
   "outputs": [
    {
     "data": {
      "text/plain": [
       "array([  1,  20,  34,  56,  67,  78,  33,  23,  29,  55,  89,  99, 100])"
      ]
     },
     "execution_count": 26,
     "metadata": {},
     "output_type": "execute_result"
    }
   ],
   "source": [
    "x = np.array([1,20,34,56,67,78,33,23,29,55,89,99,100])\n",
    "x"
   ]
  },
  {
   "cell_type": "code",
   "execution_count": 27,
   "id": "9e55756e-37f8-42b5-91b3-0c9a26a885dd",
   "metadata": {},
   "outputs": [
    {
     "data": {
      "text/plain": [
       "(array([ 3,  4,  5,  9, 10, 11, 12], dtype=int64),)"
      ]
     },
     "execution_count": 27,
     "metadata": {},
     "output_type": "execute_result"
    }
   ],
   "source": [
    "# find all the indices with value greator than 50.\n",
    "np.where(x>50)"
   ]
  },
  {
   "cell_type": "code",
   "execution_count": 28,
   "id": "50edcd44-6b91-4d49-af1d-5223a72194c0",
   "metadata": {},
   "outputs": [
    {
     "data": {
      "text/plain": [
       "array([ 1, 20, 34,  0,  0,  0, 33, 23, 29,  0,  0,  0,  0])"
      ]
     },
     "execution_count": 28,
     "metadata": {},
     "output_type": "execute_result"
    }
   ],
   "source": [
    "# replace all values > 50 with 0.\n",
    "# syntax (condition,true,false)\n",
    "np.where(x>50,0,x)"
   ]
  },
  {
   "cell_type": "code",
   "execution_count": 29,
   "id": "b849911a-6e50-4185-9b88-72bb3aabc690",
   "metadata": {},
   "outputs": [
    {
     "data": {
      "text/plain": [
       "array([ 1,  0,  0,  0, 67,  0, 33, 23, 29, 55, 89, 99,  0])"
      ]
     },
     "execution_count": 29,
     "metadata": {},
     "output_type": "execute_result"
    }
   ],
   "source": [
    "# replace all the even numbers with 0 .\n",
    "np.where(x%2 == 0 , 0 ,x)"
   ]
  },
  {
   "cell_type": "code",
   "execution_count": 30,
   "id": "79bd0ab3-89bd-4a55-b46c-c6fd124d4d9a",
   "metadata": {},
   "outputs": [],
   "source": [
    "# argmax method "
   ]
  },
  {
   "cell_type": "code",
   "execution_count": 31,
   "id": "c0c0d638-2e8a-4842-8e77-8b3f2ea845d8",
   "metadata": {},
   "outputs": [
    {
     "data": {
      "text/plain": [
       "array([  1,  20,  34,  56,  67,  78,  33,  23,  29,  55,  89,  99, 100])"
      ]
     },
     "execution_count": 31,
     "metadata": {},
     "output_type": "execute_result"
    }
   ],
   "source": [
    "x"
   ]
  },
  {
   "cell_type": "code",
   "execution_count": 32,
   "id": "53af0a74-8334-4bc0-9332-785b2ed81677",
   "metadata": {},
   "outputs": [
    {
     "data": {
      "text/plain": [
       "12"
      ]
     },
     "execution_count": 32,
     "metadata": {},
     "output_type": "execute_result"
    }
   ],
   "source": [
    "# The numpy.argmax() function returns indices of the max element of the array in a particular axis.\n",
    "np.argmax(x) "
   ]
  },
  {
   "cell_type": "code",
   "execution_count": 33,
   "id": "d63ecc5d-33ac-4de5-8e80-c1bc67d9d72d",
   "metadata": {},
   "outputs": [
    {
     "data": {
      "text/plain": [
       "array([[ 7, 94, 74, 91],\n",
       "       [28, 62, 80, 69],\n",
       "       [70, 62, 39, 83],\n",
       "       [80, 31, 24, 81],\n",
       "       [58, 37, 58, 72],\n",
       "       [17, 61,  7, 27]])"
      ]
     },
     "execution_count": 33,
     "metadata": {},
     "output_type": "execute_result"
    }
   ],
   "source": [
    "b"
   ]
  },
  {
   "cell_type": "code",
   "execution_count": 34,
   "id": "b9f6ecff-87fe-4149-9b23-0e81bb4d1ef7",
   "metadata": {},
   "outputs": [
    {
     "data": {
      "text/plain": [
       "array([3, 0, 1, 0], dtype=int64)"
      ]
     },
     "execution_count": 34,
     "metadata": {},
     "output_type": "execute_result"
    }
   ],
   "source": [
    "np.argmax(b,axis=0)"
   ]
  },
  {
   "cell_type": "code",
   "execution_count": 35,
   "id": "d114e0fb-97df-4640-b06a-013f8df75db9",
   "metadata": {},
   "outputs": [
    {
     "data": {
      "text/plain": [
       "array([1, 2, 3, 3, 3, 1], dtype=int64)"
      ]
     },
     "execution_count": 35,
     "metadata": {},
     "output_type": "execute_result"
    }
   ],
   "source": [
    "np.argmax(b,axis=1)"
   ]
  },
  {
   "cell_type": "code",
   "execution_count": 36,
   "id": "bc8ce212-badd-41a5-809e-e177e4d6ae19",
   "metadata": {},
   "outputs": [],
   "source": [
    "# argmin method"
   ]
  },
  {
   "cell_type": "code",
   "execution_count": 37,
   "id": "ef69fdc1-2ca0-4ef6-859b-3d4f44f73d16",
   "metadata": {},
   "outputs": [
    {
     "data": {
      "text/plain": [
       "array([0, 3, 5, 5], dtype=int64)"
      ]
     },
     "execution_count": 37,
     "metadata": {},
     "output_type": "execute_result"
    }
   ],
   "source": [
    "np.argmin(b,axis=0)"
   ]
  },
  {
   "cell_type": "code",
   "execution_count": 38,
   "id": "bc348ff3-49fd-4edd-a852-dcae66f52c30",
   "metadata": {},
   "outputs": [],
   "source": [
    "# cumsum method (cumulative sum method)"
   ]
  },
  {
   "cell_type": "code",
   "execution_count": 39,
   "id": "33cfad31-ca40-45ca-bcbf-d39b561066ca",
   "metadata": {},
   "outputs": [
    {
     "data": {
      "text/plain": [
       "array([  1,  20,  34,  56,  67,  78,  33,  23,  29,  55,  89,  99, 100])"
      ]
     },
     "execution_count": 39,
     "metadata": {},
     "output_type": "execute_result"
    }
   ],
   "source": [
    "x"
   ]
  },
  {
   "cell_type": "code",
   "execution_count": 40,
   "id": "323e8463-799e-41b3-a234-82464ee25fff",
   "metadata": {},
   "outputs": [
    {
     "data": {
      "text/plain": [
       "array([  1,  21,  55, 111, 178, 256, 289, 312, 341, 396, 485, 584, 684])"
      ]
     },
     "execution_count": 40,
     "metadata": {},
     "output_type": "execute_result"
    }
   ],
   "source": [
    "np.cumsum(x)"
   ]
  },
  {
   "cell_type": "code",
   "execution_count": 41,
   "id": "e1f2bded-caac-4780-b5de-cd97b959bf0f",
   "metadata": {},
   "outputs": [
    {
     "data": {
      "text/plain": [
       "array([[ 7, 94, 74, 91],\n",
       "       [28, 62, 80, 69],\n",
       "       [70, 62, 39, 83],\n",
       "       [80, 31, 24, 81],\n",
       "       [58, 37, 58, 72],\n",
       "       [17, 61,  7, 27]])"
      ]
     },
     "execution_count": 41,
     "metadata": {},
     "output_type": "execute_result"
    }
   ],
   "source": [
    "b"
   ]
  },
  {
   "cell_type": "code",
   "execution_count": 42,
   "id": "9cd12c7e-83eb-4d0d-843c-de37777cb997",
   "metadata": {},
   "outputs": [
    {
     "data": {
      "text/plain": [
       "array([[  7,  94,  74,  91],\n",
       "       [ 35, 156, 154, 160],\n",
       "       [105, 218, 193, 243],\n",
       "       [185, 249, 217, 324],\n",
       "       [243, 286, 275, 396],\n",
       "       [260, 347, 282, 423]])"
      ]
     },
     "execution_count": 42,
     "metadata": {},
     "output_type": "execute_result"
    }
   ],
   "source": [
    "np.cumsum(b,axis=0) #column "
   ]
  },
  {
   "cell_type": "code",
   "execution_count": 43,
   "id": "2e2be4a3-889f-4a1f-94eb-147063371e9f",
   "metadata": {},
   "outputs": [
    {
     "data": {
      "text/plain": [
       "array([[  7, 101, 175, 266],\n",
       "       [ 28,  90, 170, 239],\n",
       "       [ 70, 132, 171, 254],\n",
       "       [ 80, 111, 135, 216],\n",
       "       [ 58,  95, 153, 225],\n",
       "       [ 17,  78,  85, 112]])"
      ]
     },
     "execution_count": 43,
     "metadata": {},
     "output_type": "execute_result"
    }
   ],
   "source": [
    "np.cumsum(b,axis=1) #row"
   ]
  },
  {
   "cell_type": "code",
   "execution_count": 44,
   "id": "b6403f55-b58e-4863-9289-e79e04445145",
   "metadata": {},
   "outputs": [],
   "source": [
    "# cumprod method"
   ]
  },
  {
   "cell_type": "code",
   "execution_count": 45,
   "id": "41c0fda0-ede6-45f4-ac34-48dc487a1f3d",
   "metadata": {},
   "outputs": [
    {
     "data": {
      "text/plain": [
       "array([  1,  20,  34,  56,  67,  78,  33,  23,  29,  55,  89,  99, 100])"
      ]
     },
     "execution_count": 45,
     "metadata": {},
     "output_type": "execute_result"
    }
   ],
   "source": [
    "x"
   ]
  },
  {
   "cell_type": "code",
   "execution_count": 46,
   "id": "61c5ef67-87ef-4c22-bb9a-d48d90c9d2b2",
   "metadata": {},
   "outputs": [
    {
     "data": {
      "text/plain": [
       "array([          1,          20,         680,       38080,     2551360,\n",
       "         199006080, -2022733952,   721759360,  -543815040,   154943872,\n",
       "         905102720,  -589143936,  1215148544])"
      ]
     },
     "execution_count": 46,
     "metadata": {},
     "output_type": "execute_result"
    }
   ],
   "source": [
    "np.cumprod(x)"
   ]
  },
  {
   "cell_type": "code",
   "execution_count": 47,
   "id": "fdbb2a40-2eba-476b-9f6f-6a179dcc03b7",
   "metadata": {},
   "outputs": [
    {
     "data": {
      "text/plain": [
       "array([[ 7, 94, 74, 91],\n",
       "       [28, 62, 80, 69],\n",
       "       [70, 62, 39, 83],\n",
       "       [80, 31, 24, 81],\n",
       "       [58, 37, 58, 72],\n",
       "       [17, 61,  7, 27]])"
      ]
     },
     "execution_count": 47,
     "metadata": {},
     "output_type": "execute_result"
    }
   ],
   "source": [
    "b"
   ]
  },
  {
   "cell_type": "code",
   "execution_count": 48,
   "id": "01e75dba-5509-4cc4-9349-33d856cb95de",
   "metadata": {},
   "outputs": [
    {
     "data": {
      "text/plain": [
       "array([[          7,          94,          74,          91],\n",
       "       [        196,        5828,        5920,        6279],\n",
       "       [      13720,      361336,      230880,      521157],\n",
       "       [    1097600,    11201416,     5541120,    42213717],\n",
       "       [   63660800,   414452392,   321384960, -1255579672],\n",
       "       [ 1082233600,  -488207864, -2045272576,   459087224]])"
      ]
     },
     "execution_count": 48,
     "metadata": {},
     "output_type": "execute_result"
    }
   ],
   "source": [
    "np.cumprod(b,axis=0)"
   ]
  },
  {
   "cell_type": "code",
   "execution_count": 49,
   "id": "7c2da3be-3284-4b51-88c1-aa1932455641",
   "metadata": {},
   "outputs": [
    {
     "data": {
      "text/plain": [
       "array([[       7,      658,    48692,  4430972],\n",
       "       [      28,     1736,   138880,  9582720],\n",
       "       [      70,     4340,   169260, 14048580],\n",
       "       [      80,     2480,    59520,  4821120],\n",
       "       [      58,     2146,   124468,  8961696],\n",
       "       [      17,     1037,     7259,   195993]])"
      ]
     },
     "execution_count": 49,
     "metadata": {},
     "output_type": "execute_result"
    }
   ],
   "source": [
    "np.cumprod(b,axis=1)"
   ]
  },
  {
   "cell_type": "code",
   "execution_count": 50,
   "id": "96ddab26-be62-4f16-a4a5-b07a00b91df5",
   "metadata": {},
   "outputs": [],
   "source": [
    "# percentile method"
   ]
  },
  {
   "cell_type": "code",
   "execution_count": 51,
   "id": "ce4c99fa-8184-4b01-8612-16ba5fb78f8a",
   "metadata": {},
   "outputs": [
    {
     "data": {
      "text/plain": [
       "array([  1,  20,  34,  56,  67,  78,  33,  23,  29,  55,  89,  99, 100])"
      ]
     },
     "execution_count": 51,
     "metadata": {},
     "output_type": "execute_result"
    }
   ],
   "source": [
    "x"
   ]
  },
  {
   "cell_type": "code",
   "execution_count": 52,
   "id": "3502400d-a36e-4f19-98c2-bd07875efc06",
   "metadata": {},
   "outputs": [
    {
     "data": {
      "text/plain": [
       "100.0"
      ]
     },
     "execution_count": 52,
     "metadata": {},
     "output_type": "execute_result"
    }
   ],
   "source": [
    "np.percentile(x,100)"
   ]
  },
  {
   "cell_type": "code",
   "execution_count": 53,
   "id": "5d1b7db1-b423-4eb8-9ec4-e3ba28307723",
   "metadata": {},
   "outputs": [
    {
     "data": {
      "text/plain": [
       "1.0"
      ]
     },
     "execution_count": 53,
     "metadata": {},
     "output_type": "execute_result"
    }
   ],
   "source": [
    "np.percentile(x,0)"
   ]
  },
  {
   "cell_type": "code",
   "execution_count": 54,
   "id": "58b34579-a477-45f0-9bbd-6483ffa620f4",
   "metadata": {},
   "outputs": [
    {
     "data": {
      "text/plain": [
       "55.0"
      ]
     },
     "execution_count": 54,
     "metadata": {},
     "output_type": "execute_result"
    }
   ],
   "source": [
    "np.percentile(x,50)"
   ]
  },
  {
   "cell_type": "code",
   "execution_count": 55,
   "id": "15e3f3f4-3a5d-4a91-b2aa-548c8cd63075",
   "metadata": {},
   "outputs": [
    {
     "data": {
      "text/plain": [
       "55.0"
      ]
     },
     "execution_count": 55,
     "metadata": {},
     "output_type": "execute_result"
    }
   ],
   "source": [
    "np.median(x)"
   ]
  },
  {
   "cell_type": "code",
   "execution_count": 56,
   "id": "4554078f-604c-416c-9f15-509a68ec4be1",
   "metadata": {},
   "outputs": [
    {
     "data": {
      "text/plain": [
       "array([[ 7, 94, 74, 91],\n",
       "       [28, 62, 80, 69],\n",
       "       [70, 62, 39, 83],\n",
       "       [80, 31, 24, 81],\n",
       "       [58, 37, 58, 72],\n",
       "       [17, 61,  7, 27]])"
      ]
     },
     "execution_count": 56,
     "metadata": {},
     "output_type": "execute_result"
    }
   ],
   "source": [
    "b"
   ]
  },
  {
   "cell_type": "code",
   "execution_count": 57,
   "id": "a4175695-f0e4-4fad-b751-28da56d511be",
   "metadata": {},
   "outputs": [
    {
     "data": {
      "text/plain": [
       "array([43. , 61.5, 48.5, 76.5])"
      ]
     },
     "execution_count": 57,
     "metadata": {},
     "output_type": "execute_result"
    }
   ],
   "source": [
    "np.percentile(b,50,axis=0)"
   ]
  },
  {
   "cell_type": "code",
   "execution_count": 58,
   "id": "7102f1f0-1f46-4d54-b9f8-a8761201916e",
   "metadata": {},
   "outputs": [
    {
     "data": {
      "text/plain": [
       "array([82.5, 65.5, 66. , 55.5, 58. , 22. ])"
      ]
     },
     "execution_count": 58,
     "metadata": {},
     "output_type": "execute_result"
    }
   ],
   "source": [
    "np.percentile(b,50,axis=1)"
   ]
  },
  {
   "cell_type": "code",
   "execution_count": 59,
   "id": "60b4f2ef-1c05-412d-9fea-912bc6b7a943",
   "metadata": {},
   "outputs": [],
   "source": [
    "# histogram method"
   ]
  },
  {
   "cell_type": "code",
   "execution_count": 60,
   "id": "6f1f4c81-787c-4e4a-93dc-58784fc2eba1",
   "metadata": {},
   "outputs": [
    {
     "data": {
      "text/plain": [
       "array([  1,  20,  34,  56,  67,  78,  33,  23,  29,  55,  89,  99, 100])"
      ]
     },
     "execution_count": 60,
     "metadata": {},
     "output_type": "execute_result"
    }
   ],
   "source": [
    "x"
   ]
  },
  {
   "cell_type": "code",
   "execution_count": 61,
   "id": "3c22023a-93c8-4a10-b84e-7694ddeb9eca",
   "metadata": {},
   "outputs": [
    {
     "data": {
      "text/plain": [
       "(array([1, 5, 2, 2, 3], dtype=int64), array([  0,  20,  40,  60,  80, 100]))"
      ]
     },
     "execution_count": 61,
     "metadata": {},
     "output_type": "execute_result"
    }
   ],
   "source": [
    "np.histogram(x,bins=[0,20,40,60,80,100])"
   ]
  },
  {
   "cell_type": "code",
   "execution_count": 62,
   "id": "db78b934-6783-4d50-9ecc-e913c4a09c47",
   "metadata": {},
   "outputs": [],
   "source": [
    "# corrcoef method(Correlation Coefficient )\n",
    "# how much quantities depend on each other "
   ]
  },
  {
   "cell_type": "code",
   "execution_count": 63,
   "id": "31c0bbd2-ab1d-4fa6-819b-b5a390cc3938",
   "metadata": {},
   "outputs": [
    {
     "data": {
      "text/plain": [
       "array([[1.       , 0.8010362],\n",
       "       [0.8010362, 1.       ]])"
      ]
     },
     "execution_count": 63,
     "metadata": {},
     "output_type": "execute_result"
    }
   ],
   "source": [
    "salary = np.array([1000,2000,3000,40000])\n",
    "experience = np.array([1,2,3,4])\n",
    "np.corrcoef(salary,experience)"
   ]
  },
  {
   "cell_type": "code",
   "execution_count": 64,
   "id": "f9592039-f80b-4691-b769-22a08461fcb3",
   "metadata": {},
   "outputs": [],
   "source": [
    "# salary to salary then salary to experience \n",
    "# experience to salary then experience to experience "
   ]
  },
  {
   "cell_type": "code",
   "execution_count": 65,
   "id": "6056c154-a6aa-48ae-aceb-d6e09dff9c1d",
   "metadata": {},
   "outputs": [],
   "source": [
    "# numpy.isin() method \n",
    "# searching multiple items at a time."
   ]
  },
  {
   "cell_type": "code",
   "execution_count": 66,
   "id": "f9bc55cd-b682-47c0-9e9f-5b066a6b931c",
   "metadata": {},
   "outputs": [
    {
     "data": {
      "text/plain": [
       "array([  1,  20,  34,  56,  67,  78,  33,  23,  29,  55,  89,  99, 100])"
      ]
     },
     "execution_count": 66,
     "metadata": {},
     "output_type": "execute_result"
    }
   ],
   "source": [
    "x"
   ]
  },
  {
   "cell_type": "code",
   "execution_count": 67,
   "id": "791e7dc1-2111-44c6-8aea-ad1e2f1e961f",
   "metadata": {},
   "outputs": [
    {
     "data": {
      "text/plain": [
       "array([ True,  True, False, False, False, False, False, False, False,\n",
       "       False, False, False,  True])"
      ]
     },
     "execution_count": 67,
     "metadata": {},
     "output_type": "execute_result"
    }
   ],
   "source": [
    "items =[1,20,60,100,80]\n",
    "np.isin(x,items)"
   ]
  },
  {
   "cell_type": "code",
   "execution_count": 68,
   "id": "e3e90b9f-949b-4dab-ab7a-9f3255094364",
   "metadata": {},
   "outputs": [
    {
     "data": {
      "text/plain": [
       "array([  1,  20, 100])"
      ]
     },
     "execution_count": 68,
     "metadata": {},
     "output_type": "execute_result"
    }
   ],
   "source": [
    "x[np.isin(x,items)]"
   ]
  },
  {
   "cell_type": "code",
   "execution_count": 69,
   "id": "fa514fda-ca9b-4658-b922-489f39b9763f",
   "metadata": {},
   "outputs": [],
   "source": [
    "# flip method"
   ]
  },
  {
   "cell_type": "code",
   "execution_count": 70,
   "id": "48f95182-e7b4-4372-a0f1-4e4bdab73265",
   "metadata": {},
   "outputs": [
    {
     "data": {
      "text/plain": [
       "array([  1,  20,  34,  56,  67,  78,  33,  23,  29,  55,  89,  99, 100])"
      ]
     },
     "execution_count": 70,
     "metadata": {},
     "output_type": "execute_result"
    }
   ],
   "source": [
    "x"
   ]
  },
  {
   "cell_type": "code",
   "execution_count": 71,
   "id": "67c97ddf-1824-4f86-9292-6a1cc45dc685",
   "metadata": {},
   "outputs": [
    {
     "data": {
      "text/plain": [
       "array([100,  99,  89,  55,  29,  23,  33,  78,  67,  56,  34,  20,   1])"
      ]
     },
     "execution_count": 71,
     "metadata": {},
     "output_type": "execute_result"
    }
   ],
   "source": [
    "np.flip(x)"
   ]
  },
  {
   "cell_type": "code",
   "execution_count": 72,
   "id": "4bee8598-74d6-480d-be85-9aae1825c336",
   "metadata": {},
   "outputs": [
    {
     "data": {
      "text/plain": [
       "array([[ 7, 94, 74, 91],\n",
       "       [28, 62, 80, 69],\n",
       "       [70, 62, 39, 83],\n",
       "       [80, 31, 24, 81],\n",
       "       [58, 37, 58, 72],\n",
       "       [17, 61,  7, 27]])"
      ]
     },
     "execution_count": 72,
     "metadata": {},
     "output_type": "execute_result"
    }
   ],
   "source": [
    "b"
   ]
  },
  {
   "cell_type": "code",
   "execution_count": 73,
   "id": "07ff903c-bbba-4242-8c70-2fb839660c5d",
   "metadata": {},
   "outputs": [
    {
     "data": {
      "text/plain": [
       "array([[17, 61,  7, 27],\n",
       "       [58, 37, 58, 72],\n",
       "       [80, 31, 24, 81],\n",
       "       [70, 62, 39, 83],\n",
       "       [28, 62, 80, 69],\n",
       "       [ 7, 94, 74, 91]])"
      ]
     },
     "execution_count": 73,
     "metadata": {},
     "output_type": "execute_result"
    }
   ],
   "source": [
    "np.flip(b,axis=0)"
   ]
  },
  {
   "cell_type": "code",
   "execution_count": 74,
   "id": "2b2fd989-6616-4d20-b70e-5125aea9c896",
   "metadata": {},
   "outputs": [
    {
     "data": {
      "text/plain": [
       "array([[91, 74, 94,  7],\n",
       "       [69, 80, 62, 28],\n",
       "       [83, 39, 62, 70],\n",
       "       [81, 24, 31, 80],\n",
       "       [72, 58, 37, 58],\n",
       "       [27,  7, 61, 17]])"
      ]
     },
     "execution_count": 74,
     "metadata": {},
     "output_type": "execute_result"
    }
   ],
   "source": [
    "np.flip(b,axis=1)"
   ]
  },
  {
   "cell_type": "code",
   "execution_count": 75,
   "id": "799678df-e3e4-4805-9c0a-438854963fe7",
   "metadata": {},
   "outputs": [],
   "source": [
    "# put method (editing) ya original array ma changes karta ha ."
   ]
  },
  {
   "cell_type": "code",
   "execution_count": 76,
   "id": "6a708e3c-9d73-4ecf-9263-9195082742f1",
   "metadata": {},
   "outputs": [],
   "source": [
    "# syntax np.put(array,[index/indexes],[changes])\n",
    "np.put(x,[0,1],[100,200])"
   ]
  },
  {
   "cell_type": "code",
   "execution_count": 77,
   "id": "812e54de-67bf-4138-9552-fafe9115a3cf",
   "metadata": {},
   "outputs": [
    {
     "data": {
      "text/plain": [
       "array([100, 200,  34,  56,  67,  78,  33,  23,  29,  55,  89,  99, 100])"
      ]
     },
     "execution_count": 77,
     "metadata": {},
     "output_type": "execute_result"
    }
   ],
   "source": [
    "x"
   ]
  },
  {
   "cell_type": "code",
   "execution_count": 78,
   "id": "3b7378a4-3743-4e1c-b4f4-a0ceb6dc0d2f",
   "metadata": {},
   "outputs": [
    {
     "data": {
      "text/plain": [
       "array([[ 7, 94, 74, 91],\n",
       "       [28, 62, 80, 69],\n",
       "       [70, 62, 39, 83],\n",
       "       [80, 31, 24, 81],\n",
       "       [58, 37, 58, 72],\n",
       "       [17, 61,  7, 27]])"
      ]
     },
     "execution_count": 78,
     "metadata": {},
     "output_type": "execute_result"
    }
   ],
   "source": [
    "b"
   ]
  },
  {
   "cell_type": "code",
   "execution_count": 79,
   "id": "dc71b4d5-23ed-4bf6-a4a5-6917c4315925",
   "metadata": {},
   "outputs": [],
   "source": [
    "np.put(b,[4,5],[400,500])"
   ]
  },
  {
   "cell_type": "code",
   "execution_count": 80,
   "id": "6b3e329f-74f1-4fc5-8faf-10c0c441c4b7",
   "metadata": {},
   "outputs": [
    {
     "data": {
      "text/plain": [
       "array([[  7,  94,  74,  91],\n",
       "       [400, 500,  80,  69],\n",
       "       [ 70,  62,  39,  83],\n",
       "       [ 80,  31,  24,  81],\n",
       "       [ 58,  37,  58,  72],\n",
       "       [ 17,  61,   7,  27]])"
      ]
     },
     "execution_count": 80,
     "metadata": {},
     "output_type": "execute_result"
    }
   ],
   "source": [
    "b"
   ]
  },
  {
   "cell_type": "code",
   "execution_count": 81,
   "id": "c1ca4fe0-7b06-4339-af62-1719f7541323",
   "metadata": {},
   "outputs": [],
   "source": [
    "# delete method "
   ]
  },
  {
   "cell_type": "code",
   "execution_count": 82,
   "id": "05c7b94d-d57c-476b-80b4-ef54b79866cc",
   "metadata": {},
   "outputs": [
    {
     "data": {
      "text/plain": [
       "array([200,  34,  56,  67,  78,  33,  23,  29,  55,  89,  99, 100])"
      ]
     },
     "execution_count": 82,
     "metadata": {},
     "output_type": "execute_result"
    }
   ],
   "source": [
    "# syntax np.delete(array,index)\n",
    "np.delete(x,0)"
   ]
  },
  {
   "cell_type": "code",
   "execution_count": 83,
   "id": "c18c2ce2-362f-4531-821f-638da832b1ac",
   "metadata": {},
   "outputs": [
    {
     "data": {
      "text/plain": [
       "array([ 56,  67,  78,  33,  23,  29,  55,  89,  99, 100])"
      ]
     },
     "execution_count": 83,
     "metadata": {},
     "output_type": "execute_result"
    }
   ],
   "source": [
    "np.delete(x,[0,1,2])"
   ]
  },
  {
   "cell_type": "code",
   "execution_count": 84,
   "id": "8894d817-f86b-4535-91e0-d668fd4109cf",
   "metadata": {},
   "outputs": [],
   "source": [
    "# Set Methods"
   ]
  },
  {
   "cell_type": "code",
   "execution_count": 86,
   "id": "1c72cc0a-fd8c-4a0e-9b26-e63fd1d46ef0",
   "metadata": {},
   "outputs": [
    {
     "data": {
      "text/plain": [
       "array([ 1,  2,  3,  4,  5,  6,  7,  8,  9, 10])"
      ]
     },
     "execution_count": 86,
     "metadata": {},
     "output_type": "execute_result"
    }
   ],
   "source": [
    "# union1d\n",
    "m = np.array([1,2,3,4,5])\n",
    "n = np.array([6,7,8,9,10])\n",
    "np.union1d(m,n)"
   ]
  },
  {
   "cell_type": "code",
   "execution_count": 87,
   "id": "616f5267-703f-46d2-95ec-073e7accdf25",
   "metadata": {},
   "outputs": [
    {
     "data": {
      "text/plain": [
       "array([], dtype=int32)"
      ]
     },
     "execution_count": 87,
     "metadata": {},
     "output_type": "execute_result"
    }
   ],
   "source": [
    "# intersect1d\n",
    "np.intersect1d(m,n)"
   ]
  },
  {
   "cell_type": "code",
   "execution_count": 89,
   "id": "45e45b17-a8a2-4b29-a4b5-f0a131515ed7",
   "metadata": {},
   "outputs": [
    {
     "data": {
      "text/plain": [
       "array([1, 2, 3, 4, 5])"
      ]
     },
     "execution_count": 89,
     "metadata": {},
     "output_type": "execute_result"
    }
   ],
   "source": [
    "# setdiff1d\n",
    "np.setdiff1d(m,n)"
   ]
  },
  {
   "cell_type": "code",
   "execution_count": 91,
   "id": "551b1cf2-cb8c-4bfd-a22a-e6b7650edadc",
   "metadata": {},
   "outputs": [
    {
     "data": {
      "text/plain": [
       "array([10, 12, 13, 14])"
      ]
     },
     "execution_count": 91,
     "metadata": {},
     "output_type": "execute_result"
    }
   ],
   "source": [
    "# setxor1d\n",
    "p = np.array([6,7,8,10,12])\n",
    "q = np.array([13,14,6,7,8])\n",
    "np.setxor1d(p,q)"
   ]
  },
  {
   "cell_type": "code",
   "execution_count": 93,
   "id": "46b111f2-d0a1-46d9-a0cb-724657baeed8",
   "metadata": {},
   "outputs": [
    {
     "data": {
      "text/plain": [
       "array([2])"
      ]
     },
     "execution_count": 93,
     "metadata": {},
     "output_type": "execute_result"
    }
   ],
   "source": [
    "# np.in1d\n",
    "np.in1d(m,2)\n",
    "m[np.in1d(m,2)]"
   ]
  },
  {
   "cell_type": "code",
   "execution_count": 97,
   "id": "8caa3f14-817c-40c8-8501-53fe0cc74cdc",
   "metadata": {},
   "outputs": [],
   "source": [
    "# np.clip method "
   ]
  },
  {
   "cell_type": "code",
   "execution_count": 98,
   "id": "5169c3de-0568-417a-9f0c-3e7533dc19d2",
   "metadata": {},
   "outputs": [
    {
     "data": {
      "text/plain": [
       "array([24, 74,  2, 71, 49, 84, 38, 44,  6, 17, 46,  6, 73, 30, 72])"
      ]
     },
     "execution_count": 98,
     "metadata": {},
     "output_type": "execute_result"
    }
   ],
   "source": [
    "a"
   ]
  },
  {
   "cell_type": "code",
   "execution_count": 99,
   "id": "1df13c74-8fcd-429a-92d6-3224f6c9f972",
   "metadata": {},
   "outputs": [
    {
     "data": {
      "text/plain": [
       "array([30, 74, 30, 71, 49, 80, 38, 44, 30, 30, 46, 30, 73, 30, 72])"
      ]
     },
     "execution_count": 99,
     "metadata": {},
     "output_type": "execute_result"
    }
   ],
   "source": [
    "np.clip(a,a_min=30,a_max=80)"
   ]
  },
  {
   "cell_type": "code",
   "execution_count": 96,
   "id": "e9c74b08-6413-452f-957e-1527662849c7",
   "metadata": {},
   "outputs": [],
   "source": [
    "# Campusx Interview question\n",
    "# np.swapaxes\n",
    "# np.tile\n",
    "# np.uniform\n",
    "# np.count_nonzero"
   ]
  },
  {
   "cell_type": "code",
   "execution_count": null,
   "id": "07bd522f-02f2-4604-ba6b-58a8b931b7c2",
   "metadata": {},
   "outputs": [],
   "source": []
  }
 ],
 "metadata": {
  "kernelspec": {
   "display_name": "Python 3 (ipykernel)",
   "language": "python",
   "name": "python3"
  },
  "language_info": {
   "codemirror_mode": {
    "name": "ipython",
    "version": 3
   },
   "file_extension": ".py",
   "mimetype": "text/x-python",
   "name": "python",
   "nbconvert_exporter": "python",
   "pygments_lexer": "ipython3",
   "version": "3.12.0"
  }
 },
 "nbformat": 4,
 "nbformat_minor": 5
}
